{
 "cells": [
  {
   "cell_type": "code",
   "execution_count": 1,
   "metadata": {},
   "outputs": [
    {
     "name": "stderr",
     "output_type": "stream",
     "text": [
      "/Users/bryanbrzycki/anaconda3/envs/seti/lib/python3.7/site-packages/h5py/__init__.py:40: UserWarning: h5py is running against HDF5 1.10.4 when it was built against 1.10.5, this may cause problems\n",
      "  '{0}.{1}.{2}'.format(*version.hdf5_built_version_tuple)\n"
     ]
    }
   ],
   "source": [
    "import sys\n",
    "sys.path.insert(0, \"../setigen/\")\n",
    "import setigen as stg\n",
    "from astropy import units as u"
   ]
  },
  {
   "cell_type": "code",
   "execution_count": 2,
   "metadata": {},
   "outputs": [],
   "source": [
    "frame = stg.Frame(fchans=1024*u.pixel,\n",
    "                  tchans=32*u.pixel,\n",
    "                  df=2.7939677238464355*u.Hz,\n",
    "                  dt=18.25361108*u.s,\n",
    "                  fch1=6095.214842353016*u.MHz)"
   ]
  },
  {
   "cell_type": "code",
   "execution_count": 3,
   "metadata": {},
   "outputs": [
    {
     "name": "stdout",
     "output_type": "stream",
     "text": [
      "blimpy.waterfall INFO     Conversion time: 0.02sec\n"
     ]
    }
   ],
   "source": [
    "fil_fn = 'temp.h5'\n",
    "frame.save_hdf5(fil_fn)"
   ]
  },
  {
   "cell_type": "code",
   "execution_count": 3,
   "metadata": {},
   "outputs": [
    {
     "data": {
      "text/plain": [
       "{'machine_id': 20,\n",
       " 'telescope_id': 6,\n",
       " 'src_raj': <Angle 17.7875 hourangle>,\n",
       " 'src_dej': <Angle -28.3831 deg>,\n",
       " 'az_start': 0.0,\n",
       " 'za_start': 0.0,\n",
       " 'data_type': 1,\n",
       " 'fch1': 6663.99999987334,\n",
       " 'foff': -1.3969838619232178e-06,\n",
       " 'nchans': 1024,\n",
       " 'nbeams': 1,\n",
       " 'ibeam': -1,\n",
       " 'nbits': 32,\n",
       " 'tstart': 58465.717094907406,\n",
       " 'tsamp': 1.431655765333332,\n",
       " 'nifs': 1,\n",
       " 'source_name': 'DIAG_SGR_B2',\n",
       " 'rawdatafile': 'blc13_guppi_58465_61957_DIAG_SGR_B2_0066.0000.raw'}"
      ]
     },
     "execution_count": 3,
     "metadata": {},
     "output_type": "execute_result"
    }
   ],
   "source": [
    "f = stg.Frame(waterfall='../setigen/setigen/assets/sample.fil')\n",
    "f.waterfall.header"
   ]
  },
  {
   "cell_type": "code",
   "execution_count": 4,
   "metadata": {},
   "outputs": [
    {
     "name": "stdout",
     "output_type": "stream",
     "text": [
      "blimpy.waterfall INFO     Conversion time: 0.02sec\n"
     ]
    }
   ],
   "source": [
    "fil_fn = 'temp.h5'\n",
    "f.save_hdf5(fil_fn)"
   ]
  },
  {
   "cell_type": "code",
   "execution_count": 5,
   "metadata": {},
   "outputs": [],
   "source": [
    "temp_frame = stg.Frame(waterfall=fil_fn)"
   ]
  },
  {
   "cell_type": "code",
   "execution_count": 6,
   "metadata": {},
   "outputs": [
    {
     "data": {
      "text/plain": [
       "{'DIMENSION_LABELS': array([b'time', b'feed_id', b'frequency'], dtype=object),\n",
       " 'az_start': 0.0,\n",
       " 'data_type': 1,\n",
       " 'fch1': 6663.99999987334,\n",
       " 'foff': -1.3969838619232178e-06,\n",
       " 'ibeam': -1,\n",
       " 'machine_id': 20,\n",
       " 'nbeams': 1,\n",
       " 'nbits': 32,\n",
       " 'nchans': 1024,\n",
       " 'nifs': 1,\n",
       " 'rawdatafile': 'blc13_guppi_58465_61957_DIAG_SGR_B2_0066.0000.raw',\n",
       " 'source_name': 'DIAG_SGR_B2',\n",
       " 'src_dej': <Angle -28.3831 deg>,\n",
       " 'src_raj': <Angle 17.7875 hourangle>,\n",
       " 'telescope_id': 6,\n",
       " 'tsamp': 1.431655765333332,\n",
       " 'tstart': 58465.717094907406,\n",
       " 'za_start': 0.0}"
      ]
     },
     "execution_count": 6,
     "metadata": {},
     "output_type": "execute_result"
    }
   ],
   "source": [
    "temp_frame.header"
   ]
  },
  {
   "cell_type": "code",
   "execution_count": 6,
   "metadata": {},
   "outputs": [
    {
     "data": {
      "text/plain": [
       "array([[0., 0., 0., ..., 0., 0., 0.],\n",
       "       [0., 0., 0., ..., 0., 0., 0.],\n",
       "       [0., 0., 0., ..., 0., 0., 0.],\n",
       "       ...,\n",
       "       [0., 0., 0., ..., 0., 0., 0.],\n",
       "       [0., 0., 0., ..., 0., 0., 0.],\n",
       "       [0., 0., 0., ..., 0., 0., 0.]])"
      ]
     },
     "execution_count": 6,
     "metadata": {},
     "output_type": "execute_result"
    }
   ],
   "source": [
    "temp_frame.add_constant_signal(frame.get_frequency(256), 1, 1, 10)"
   ]
  },
  {
   "cell_type": "code",
   "execution_count": 9,
   "metadata": {},
   "outputs": [
    {
     "data": {
      "image/png": "[encoded data removed]",
      "text/plain": [
       "<Figure size 432x288 with 2 Axes>"
      ]
     },
     "metadata": {
      "needs_background": "light"
     },
     "output_type": "display_data"
    }
   ],
   "source": [
    "temp_frame.render()"
   ]
  },
  {
   "cell_type": "code",
   "execution_count": null,
   "metadata": {},
   "outputs": [],
   "source": []
  }
 ],
 "metadata": {
  "kernelspec": {
   "display_name": "Python (seti)",
   "language": "python",
   "name": "seti"
  },
  "language_info": {
   "codemirror_mode": {
    "name": "ipython",
    "version": 3
   },
   "file_extension": ".py",
   "mimetype": "text/x-python",
   "name": "python",
   "nbconvert_exporter": "python",
   "pygments_lexer": "ipython3",
   "version": "3.7.3"
  }
 },
 "nbformat": 4,
 "nbformat_minor": 2
}
