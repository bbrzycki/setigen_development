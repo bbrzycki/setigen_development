{
 "cells": [
  {
   "cell_type": "code",
   "execution_count": 1,
   "metadata": {},
   "outputs": [
    {
     "name": "stderr",
     "output_type": "stream",
     "text": [
      "bshuf filter already loaded, skip it.\n",
      "lz4 filter already loaded, skip it.\n",
      "zfp filter already loaded, skip it.\n"
     ]
    }
   ],
   "source": [
    "import pytest\n",
    "import copy\n",
    "import numpy as np\n",
    "from numpy.testing import assert_allclose\n",
    "\n",
    "import os\n",
    "from astropy import units as u\n",
    "import sys, os, glob\n",
    "sys.path.insert(0, \"/home/bryanb/setigen\")\n",
    "import setigen as stg\n",
    "import blimpy as bl"
   ]
  },
  {
   "cell_type": "code",
   "execution_count": 2,
   "metadata": {},
   "outputs": [],
   "source": [
    "sample_rate = 3e9\n",
    "antenna = stg.voltage.Antenna(sample_rate=sample_rate, \n",
    "                              fch1=6*u.GHz,\n",
    "                              ascending=True,\n",
    "                              num_pols=2)\n",
    "\n",
    "num_taps = 8\n",
    "num_branches = 1024\n",
    "\n",
    "digitizer = stg.voltage.RealQuantizer(target_fwhm=32,\n",
    "                                      num_bits=8)\n",
    "\n",
    "filterbank = stg.voltage.PolyphaseFilterbank(num_taps=num_taps, \n",
    "                                             num_branches=num_branches)\n",
    "\n",
    "requantizer = stg.voltage.ComplexQuantizer(target_fwhm=32,\n",
    "                                           num_bits=8)\n",
    "\n"
   ]
  },
  {
   "cell_type": "code",
   "execution_count": 3,
   "metadata": {},
   "outputs": [
    {
     "name": "stderr",
     "output_type": "stream",
     "text": [
      "Blocks:   0%|          | 0/1 [00:00<?, ?it/s]\n",
      "  0%|          | 0/2 [00:00<?, ?it/s]\u001b[A\n",
      "Subblocks:   0%|          | 0/2 [00:00<?, ?it/s]\u001b[A\n",
      "Blocks: 100%|██████████| 1/1 [00:00<00:00, 40.54it/s]"
     ]
    },
    {
     "name": "stdout",
     "output_type": "stream",
     "text": [
      "(8, 64)\n"
     ]
    },
    {
     "name": "stderr",
     "output_type": "stream",
     "text": [
      "\n"
     ]
    }
   ],
   "source": [
    "num_taps = 8\n",
    "num_branches = 1024\n",
    "num_chans = 64\n",
    "num_pols = 2\n",
    "block_size = num_taps * num_chans * 2 * num_pols\n",
    "rvb = stg.voltage.RawVoltageBackend(antenna,\n",
    "                                    digitizer=digitizer,\n",
    "                                    filterbank=filterbank,\n",
    "                                    requantizer=requantizer,\n",
    "                                    start_chan=0,\n",
    "                                    num_chans=num_chans,\n",
    "                                    block_size=block_size,\n",
    "                                    blocks_per_file=128,\n",
    "                                    num_subblocks=32)\n",
    "antenna.x.add_noise(v_mean=0, \n",
    "                    v_std=1)\n",
    "antenna.y.add_noise(v_mean=0, \n",
    "                    v_std=1)\n",
    "antenna.x.add_constant_signal(f_start=6002.2e6, \n",
    "                              drift_rate=-2*u.Hz/u.s, \n",
    "                              level=0.002)\n",
    "antenna.y.add_constant_signal(f_start=6002.2e6, \n",
    "                              drift_rate=-2*u.Hz/u.s, \n",
    "                              level=0.002,\n",
    "                              phase=np.pi/2)\n",
    "\n",
    "rvb.record(raw_file_stem='example_1block',\n",
    "           num_blocks=1, \n",
    "           length_mode='num_blocks',\n",
    "           header_dict={'HELLO': 'test_value',\n",
    "                        'TELESCOP': 'GBT'},\n",
    "           verbose=False)\n",
    "\n",
    "wf_data = stg.voltage.get_waterfall_from_raw('example_1block.0000.raw',\n",
    "                                             block_size=block_size,\n",
    "                                             num_chans=num_chans,\n",
    "                                             int_factor=1,\n",
    "                                             fftlength=1)\n",
    "print(wf_data.shape)"
   ]
  },
  {
   "cell_type": "code",
   "execution_count": 6,
   "metadata": {},
   "outputs": [
    {
     "data": {
      "text/plain": [
       "523.8099729119477"
      ]
     },
     "execution_count": 6,
     "metadata": {},
     "output_type": "execute_result"
    }
   ],
   "source": [
    "np.std(wf_data)"
   ]
  },
  {
   "cell_type": "code",
   "execution_count": 20,
   "metadata": {},
   "outputs": [
    {
     "data": {
      "text/plain": [
       "{'BACKEND': 'GUPPI   ',\n",
       " 'TELESCOP': 'GBT     ',\n",
       " 'OBSERVER': 'SETIGEN ',\n",
       " 'PROJID': 'AGBT20B_999_22',\n",
       " 'FRONTEND': 'RcvrArray18_26',\n",
       " 'NRCVR': '2',\n",
       " 'FD_POLN': 'CIRC    ',\n",
       " 'BMAJ': '0.009263915095687008',\n",
       " 'BMIN': '0.009263915095687008',\n",
       " 'SRC_NAME': 'SYNTHETIC',\n",
       " 'TRK_MODE': 'TRACK   ',\n",
       " 'RA_STR': '04:41:45.7920',\n",
       " 'RA': '70.4408',\n",
       " 'DEC_STR': '+25:41:27.9600',\n",
       " 'DEC': '25.6911',\n",
       " 'LST': '83464',\n",
       " 'AZ': '433.0963',\n",
       " 'ZA': '69.1473',\n",
       " 'DAQCTRL': 'start   ',\n",
       " 'DAQPULSE': 'Tue Sep 22 00:24:27 2020',\n",
       " 'DAQSTATE': 'record  ',\n",
       " 'NBITS': '8',\n",
       " 'OFFSET0': '0.0',\n",
       " 'OFFSET1': '0.0',\n",
       " 'OFFSET2': '0.0',\n",
       " 'OFFSET3': '0.0',\n",
       " 'BANKNAM': 'BLP00   ',\n",
       " 'TFOLD': '0',\n",
       " 'DS_FREQ': '1',\n",
       " 'DS_TIME': '1',\n",
       " 'FFTLEN': '512',\n",
       " 'CHAN_BW': '2.9296875',\n",
       " 'BANDNUM': '0',\n",
       " 'NBIN': '0',\n",
       " 'OBSNCHAN': '64',\n",
       " 'SCALE0': '1.0',\n",
       " 'SCALE1': '1.0',\n",
       " 'DATAHOST': 'blr2-1-10-0.gb.nrao.edu',\n",
       " 'SCALE3': '1.0',\n",
       " 'NPOL': '4',\n",
       " 'POL_TYPE': 'AABBCRCI',\n",
       " 'BANKNUM': '0',\n",
       " 'DATAPORT': '60000',\n",
       " 'ONLY_I': '0',\n",
       " 'CAL_DCYC': '0.5',\n",
       " 'DIRECTIO': '1',\n",
       " 'BLOCSIZE': '2048',\n",
       " 'ACC_LEN': '1',\n",
       " 'CAL_MODE': 'OFF     ',\n",
       " 'OVERLAP': '0',\n",
       " 'OBS_MODE': 'RAW     ',\n",
       " 'CAL_FREQ': '0.0',\n",
       " 'DATADIR': '/datax/dibas',\n",
       " 'OBSFREQ': '6092.28515625',\n",
       " 'PFB_OVER': '12',\n",
       " 'SCANLEN': '2.7306666666666666e-06',\n",
       " 'PARFILE': '/opt/dibas/etc/config/example.par',\n",
       " 'OBSBW': '187.5',\n",
       " 'SCALE2': '1.0',\n",
       " 'BINDHOST': 'eth4    ',\n",
       " 'PKTFMT': '1SFA    ',\n",
       " 'TBIN': '3.41333333333333E-07',\n",
       " 'BASE_BW': '1450.0',\n",
       " 'CHAN_DM': '0.0',\n",
       " 'SCAN': '10',\n",
       " 'STT_SMJD': '15868',\n",
       " 'STT_IMJD': '59114',\n",
       " 'STTVALID': '1',\n",
       " 'NETSTAT': 'receiving',\n",
       " 'DISKSTAT': 'waiting ',\n",
       " 'PKTIDX': '0',\n",
       " 'DROPAVG': '1.37455e-05',\n",
       " 'DROPTOT': '0.6331',\n",
       " 'DROPBLK': '0',\n",
       " 'PKTSTOP': '27459584',\n",
       " 'NETBUFST': '1/24    ',\n",
       " 'STT_OFFS': '0',\n",
       " 'SCANREM': '0.0',\n",
       " 'PKTSIZE': '8192',\n",
       " 'NPKT': '16384',\n",
       " 'NDROP': '0',\n",
       " 'HELLO': 'test_value'}"
      ]
     },
     "execution_count": 20,
     "metadata": {},
     "output_type": "execute_result"
    }
   ],
   "source": [
    "header_dict = {}\n",
    "with open('example_1block.0000.raw', \"rb\") as f:\n",
    "    i = 1\n",
    "    chunk = f.read(80)\n",
    "    while True:\n",
    "        key, item = chunk.decode().split('=')\n",
    "        header_dict[key.strip()] = item.strip().strip(\"''\")\n",
    "        \n",
    "        chunk = f.read(80)\n",
    "        if f\"{'END':<80}\".encode() in chunk:\n",
    "            break\n",
    "        i += 1\n",
    "header_dict"
   ]
  },
  {
   "cell_type": "code",
   "execution_count": null,
   "metadata": {},
   "outputs": [],
   "source": []
  }
 ],
 "metadata": {
  "kernelspec": {
   "display_name": "Python (bl_tf)",
   "language": "python",
   "name": "ml"
  },
  "language_info": {
   "codemirror_mode": {
    "name": "ipython",
    "version": 3
   },
   "file_extension": ".py",
   "mimetype": "text/x-python",
   "name": "python",
   "nbconvert_exporter": "python",
   "pygments_lexer": "ipython3",
   "version": "3.8.3"
  }
 },
 "nbformat": 4,
 "nbformat_minor": 4
}
