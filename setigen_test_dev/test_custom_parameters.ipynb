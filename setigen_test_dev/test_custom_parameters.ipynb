{
 "cells": [
  {
   "cell_type": "code",
   "execution_count": 1,
   "metadata": {},
   "outputs": [
    {
     "name": "stderr",
     "output_type": "stream",
     "text": [
      "bshuf filter already loaded, skip it.\n",
      "lz4 filter already loaded, skip it.\n",
      "zfp filter already loaded, skip it.\n"
     ]
    }
   ],
   "source": [
    "import pytest\n",
    "import copy\n",
    "import numpy as np\n",
    "from numpy.testing import assert_allclose\n",
    "\n",
    "import os\n",
    "from astropy import units as u\n",
    "import sys, os, glob\n",
    "sys.path.insert(0, \"/home/bryanb/setigen\")\n",
    "import setigen as stg\n",
    "import blimpy as bl"
   ]
  },
  {
   "cell_type": "code",
   "execution_count": 2,
   "metadata": {},
   "outputs": [],
   "source": [
    "frame = stg.Frame(fchans=1024*u.pixel,\n",
    "                  tchans=32*u.pixel,\n",
    "                  df=2.7939677238464355*u.Hz,\n",
    "                  dt=18.253611008*u.s,\n",
    "                  fch1=6095.214842353016*u.MHz)\n",
    "signal = frame.add_signal(stg.constant_path(f_start=frame.get_frequency(200),\n",
    "                                            drift_rate=2*u.Hz/u.s),\n",
    "                          stg.constant_t_profile(level=1),\n",
    "                          stg.gaussian_f_profile(width=50*u.Hz),\n",
    "                          stg.constant_bp_profile(level=1))\n",
    "frame.save_npy('/home/bryanb/setigen/tests/assets/test_frame_data.npy')"
   ]
  },
  {
   "cell_type": "code",
   "execution_count": null,
   "metadata": {},
   "outputs": [],
   "source": []
  }
 ],
 "metadata": {
  "kernelspec": {
   "display_name": "Python (bl_tf)",
   "language": "python",
   "name": "ml"
  },
  "language_info": {
   "codemirror_mode": {
    "name": "ipython",
    "version": 3
   },
   "file_extension": ".py",
   "mimetype": "text/x-python",
   "name": "python",
   "nbconvert_exporter": "python",
   "pygments_lexer": "ipython3",
   "version": "3.8.3"
  }
 },
 "nbformat": 4,
 "nbformat_minor": 4
}
