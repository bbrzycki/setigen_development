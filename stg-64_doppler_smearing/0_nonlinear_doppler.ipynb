{
 "cells": [
  {
   "cell_type": "code",
   "execution_count": 6,
   "id": "cd60348e-eb82-429a-bdfc-c12c1d4af2fd",
   "metadata": {},
   "outputs": [
    {
     "name": "stdout",
     "output_type": "stream",
     "text": [
      "The autoreload extension is already loaded. To reload it, use:\n",
      "  %reload_ext autoreload\n"
     ]
    }
   ],
   "source": [
    "%load_ext autoreload\n",
    "%autoreload 2\n",
    "\n",
    "%matplotlib inline\n",
    "import matplotlib.pyplot as plt\n",
    "\n",
    "import numpy as np\n",
    "from astropy import units as u\n",
    "import scipy\n",
    "\n",
    "import setigen as stg"
   ]
  },
  {
   "cell_type": "code",
   "execution_count": 7,
   "id": "74dec22e-e0a5-4ac7-aed3-f35d4ea2e3e9",
   "metadata": {},
   "outputs": [],
   "source": [
    "# Sometimes it can be necessary to re-run this command for plots to show automatically\n",
    "%matplotlib inline"
   ]
  },
  {
   "cell_type": "code",
   "execution_count": 8,
   "id": "3a7a0ffb-00d2-4b6a-b639-40839f7a81ca",
   "metadata": {},
   "outputs": [
    {
     "name": "stdout",
     "output_type": "stream",
     "text": [
      "Max \"num_chans\" is 4.\n"
     ]
    },
    {
     "data": {
      "text/plain": [
       "855638016"
      ]
     },
     "execution_count": 8,
     "metadata": {},
     "output_type": "execute_result"
    }
   ],
   "source": [
    "subsample_factor = 128\n",
    "\n",
    "sample_rate = 3e9 // subsample_factor\n",
    "num_taps = 8\n",
    "num_branches = 1024 // subsample_factor\n",
    "print(f'Max \"num_chans\" is {num_branches // 2}.')\n",
    "\n",
    "fftlength = 1048576\n",
    "int_factor = 51\n",
    "num_blocks = 1\n",
    "\n",
    "digitizer = stg.voltage.RealQuantizer(target_fwhm=8,\n",
    "                                      num_bits=8)\n",
    "\n",
    "filterbank = stg.voltage.PolyphaseFilterbank(num_taps=num_taps, \n",
    "                                             num_branches=num_branches)\n",
    "\n",
    "requantizer = stg.voltage.ComplexQuantizer(target_fwhm=8,\n",
    "                                           num_bits=8)\n",
    "\n",
    "antenna = stg.voltage.Antenna(sample_rate=sample_rate, \n",
    "                              fch1=6*u.GHz,\n",
    "                              ascending=True,\n",
    "                              num_pols=2)\n",
    "\n",
    "block_size = stg.voltage.get_block_size(num_antennas=1,\n",
    "                                        tchans_per_block=1,\n",
    "                                        num_bits=8,\n",
    "                                        num_pols=2,\n",
    "                                        num_branches=1024,\n",
    "                                        num_chans=num_branches//2,\n",
    "                                        fftlength=fftlength,\n",
    "                                        int_factor=int_factor)\n",
    "block_size"
   ]
  },
  {
   "cell_type": "code",
   "execution_count": 9,
   "id": "2841823b-29d8-4e1b-bac1-ea57771ce573",
   "metadata": {},
   "outputs": [
    {
     "data": {
      "text/plain": [
       "0.0012254901960784314"
      ]
     },
     "execution_count": 9,
     "metadata": {},
     "output_type": "execute_result"
    }
   ],
   "source": [
    "134217728 / (512 * 2 * 2 * fftlength * int_factor)"
   ]
  },
  {
   "cell_type": "code",
   "execution_count": 10,
   "id": "e7e4b239-ffce-405b-9dac-c3ce8d1b4d51",
   "metadata": {},
   "outputs": [
    {
     "data": {
      "text/plain": [
       "8"
      ]
     },
     "execution_count": 10,
     "metadata": {},
     "output_type": "execute_result"
    }
   ],
   "source": [
    "num_branches"
   ]
  },
  {
   "cell_type": "code",
   "execution_count": 11,
   "id": "55eaff10-e54d-4f2d-a6a3-c93220c1770e",
   "metadata": {},
   "outputs": [
    {
     "data": {
      "text/plain": [
       "0.0010864381489468279"
      ]
     },
     "execution_count": 11,
     "metadata": {},
     "output_type": "execute_result"
    }
   ],
   "source": [
    "rvb = stg.voltage.RawVoltageBackend(antenna,\n",
    "                                    digitizer=digitizer,\n",
    "                                    filterbank=filterbank,\n",
    "                                    requantizer=requantizer,\n",
    "                                    start_chan=0,\n",
    "                                    num_chans=num_branches//2,\n",
    "                                    block_size=block_size,\n",
    "                                    blocks_per_file=128,\n",
    "                                    num_subblocks=32)\n",
    "signal_level = stg.voltage.get_level(100, \n",
    "                                     rvb,\n",
    "                                     # num_blocks=10, \n",
    "                                     # length_mode='num_blocks',\n",
    "                                     obs_length=300, \n",
    "                                     length_mode='obs_length',\n",
    "                                     fftlength=fftlength)\n",
    "signal_level"
   ]
  },
  {
   "cell_type": "code",
   "execution_count": 12,
   "id": "32e19fa5-c451-4418-aa0f-ec7800172b93",
   "metadata": {},
   "outputs": [
    {
     "data": {
      "text/plain": [
       "0.15306383611560062"
      ]
     },
     "execution_count": 12,
     "metadata": {},
     "output_type": "execute_result"
    }
   ],
   "source": [
    "stg.voltage.get_unit_drift_rate(rvb, fftlength, int_factor)"
   ]
  },
  {
   "cell_type": "code",
   "execution_count": 21,
   "id": "2bac1116-6d3a-45de-818b-f09cb5a38e9b",
   "metadata": {},
   "outputs": [
    {
     "data": {
      "text/plain": [
       "0"
      ]
     },
     "execution_count": 21,
     "metadata": {},
     "output_type": "execute_result"
    }
   ],
   "source": [
    "rvb.get_num_blocks(300)"
   ]
  },
  {
   "cell_type": "code",
   "execution_count": null,
   "id": "d0043c93-1298-4e17-968d-d7840af167fd",
   "metadata": {},
   "outputs": [],
   "source": [
    "def add_signal(frame,\n",
    "               path,\n",
    "               t_profile,\n",
    "               f_profile,\n",
    "               bp_profile=None,\n",
    "               bounding_f_range=None,\n",
    "               integrate_path=False,\n",
    "               integrate_t_profile=False,\n",
    "               doppler_smearing=False,\n",
    "               t_subsamples=10):\n",
    "    \"\"\"\n",
    "    Alternate add_signal method for better doppler smearing functionality.\n",
    "\n",
    "    \"\"\"\n",
    "    if bounding_f_range is None:\n",
    "        bounding_min, bounding_max = 0, frame.fchans\n",
    "    else:\n",
    "        bounding_min = max(frame.get_index(bounding_f_range[0]), 0)\n",
    "        bounding_max = min(frame.get_index(bounding_f_range[1]), frame.fchans)\n",
    "\n",
    "    restricted_fs = frame.fs[bounding_min:bounding_max]\n",
    "    ff, _ = np.meshgrid(restricted_fs, frame.ts)\n",
    "\n",
    "    # Handle t_profile\n",
    "    if callable(t_profile):\n",
    "        # Integrate in time direction to capture temporal variations more\n",
    "        # accurately\n",
    "        if integrate_t_profile:\n",
    "            new_ts = np.linspace(0,\n",
    "                                 frame.tchans * frame.dt,\n",
    "                                 frame.tchans * t_subsamples,\n",
    "                                 endpoint=False)\n",
    "            y = t_profile(new_ts)\n",
    "            if not isinstance(y, np.ndarray):\n",
    "                y = np.repeat(y, frame.tchans * t_subsamples)\n",
    "            integrated_y = np.mean(np.reshape(y, (frame.tchans,\n",
    "                                                  t_subsamples)),\n",
    "                                   axis=1)\n",
    "            t_profile = integrated_y\n",
    "        else:\n",
    "            t_profile = t_profile(frame.ts)\n",
    "    elif isinstance(t_profile, (list, np.ndarray)):\n",
    "        t_profile = np.array(t_profile)\n",
    "        if t_profile.shape != frame.ts.shape:\n",
    "            raise ValueError('Shape of t_profile array is {0} != {1}.'\n",
    "                             .format(t_profile.shape, frame.ts.shape))\n",
    "    elif isinstance(t_profile, (int, float)):\n",
    "        t_profile = np.full(frame.tchans, t_profile)\n",
    "    else:\n",
    "        raise TypeError('t_profile is not a function, array, or float.')\n",
    "    _, t_profile_tt = np.meshgrid(restricted_fs, t_profile)\n",
    "\n",
    "    # Handle path. Generate one extra time sample for freq smearing\n",
    "    # calculations\n",
    "    tchans_eff = frame.tchans\n",
    "    if doppler_smearing:\n",
    "        tchans_eff += 1\n",
    "    if callable(path):\n",
    "        # Average using integration to get a better position in frequency\n",
    "        # direction\n",
    "        if integrate_path:\n",
    "            new_ts = np.linspace(0,\n",
    "                                 tchans_eff * frame.dt,\n",
    "                                 tchans_eff * t_subsamples,\n",
    "                                 endpoint=False)\n",
    "            f = path(new_ts)\n",
    "            if not isinstance(f, np.ndarray):\n",
    "                f = np.repeat(f, tchans_eff * t_subsamples)\n",
    "            integrated_f = np.mean(np.reshape(f, (tchans_eff,\n",
    "                                                  t_subsamples)),\n",
    "                                   axis=1)\n",
    "            path = integrated_f\n",
    "        else:\n",
    "            ts = frame.ts\n",
    "            if doppler_smearing:\n",
    "                ts = np.append(frame.ts, frame.ts[-1] + frame.dt)\n",
    "            path = path(ts)\n",
    "    elif isinstance(path, (list, np.ndarray)):\n",
    "        path = np.array(path)\n",
    "        if path.shape != frame.ts.shape:\n",
    "            raise ValueError(f'Shape of path array is {path.shape} '\n",
    "                             f'!= {frame.ts.shape}.')\n",
    "        elif doppler_smearing and len(path) != frame.tchans + 1:\n",
    "            raise ValueError(f'To Doppler smear power, must provide'\n",
    "                             f'path array with {frame.tchans + 1} values')\n",
    "    elif isinstance(path, (int, float)):\n",
    "        path = np.full(tchans_eff, path)\n",
    "    else:\n",
    "        raise TypeError('path is not a function, array, or float.')\n",
    "    # Ensure that path f_centers are the right length\n",
    "    _, path_tt = np.meshgrid(restricted_fs, path[:frame.tchans])\n",
    "\n",
    "    if doppler_smearing:\n",
    "        dpath = np.diff(path) / t_subsamples\n",
    "        _, dpath_tt = np.meshgrid(restricted_fs, dpath)\n",
    "\n",
    "    # Handle bandpass profile\n",
    "    if bp_profile is None:\n",
    "        bp_profile = 1\n",
    "    if callable(bp_profile):\n",
    "        bp_profile = bp_profile(restricted_fs)\n",
    "    elif isinstance(bp_profile, (list, np.ndarray)):\n",
    "        bp_profile = np.array(bp_profile)\n",
    "        if bp_profile.shape != restricted_fs.shape:\n",
    "            raise ValueError('Shape of bp_profile array is {0} != {1}.'\n",
    "                             .format(bp_profile.shape,\n",
    "                                     restricted_fs.shape))\n",
    "    elif isinstance(bp_profile, (int, float)):\n",
    "        bp_profile = np.full(restricted_fs.shape, bp_profile)\n",
    "    else:\n",
    "        raise TypeError('bp_profile is not a function, array, or float.')\n",
    "    bp_profile_ff, _ = np.meshgrid(bp_profile, frame.ts)\n",
    "\n",
    "    # Create signal, adding multiple copies for Doppler smearing case\n",
    "    if doppler_smearing:\n",
    "        signal = np.zeros(ff.shape)\n",
    "        for _ in range(t_subsamples):\n",
    "            signal += (t_profile_tt * f_profile(ff, path_tt) \n",
    "                       / t_subsamples * bp_profile_ff)\n",
    "            path_tt += dpath_tt\n",
    "    else:\n",
    "        signal = t_profile_tt * f_profile(ff, path_tt) * bp_profile_ff\n",
    "\n",
    "\n",
    "    frame.data[:, bounding_min:bounding_max] += signal\n",
    "\n",
    "    signal_frame = np.zeros(frame.shape)\n",
    "    signal_frame[:, bounding_min:bounding_max] = signal\n",
    "\n",
    "    return signal_frame"
   ]
  }
 ],
 "metadata": {
  "kernelspec": {
   "display_name": "Python (bl)",
   "language": "python",
   "name": "bl"
  },
  "language_info": {
   "codemirror_mode": {
    "name": "ipython",
    "version": 3
   },
   "file_extension": ".py",
   "mimetype": "text/x-python",
   "name": "python",
   "nbconvert_exporter": "python",
   "pygments_lexer": "ipython3",
   "version": "3.7.13"
  }
 },
 "nbformat": 4,
 "nbformat_minor": 5
}
