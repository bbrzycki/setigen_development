{
 "cells": [
  {
   "cell_type": "code",
   "execution_count": 1,
   "metadata": {},
   "outputs": [],
   "source": [
    "%load_ext autoreload\n",
    "%autoreload 2\n",
    "\n",
    "%matplotlib inline\n",
    "import matplotlib.pyplot as plt\n",
    "\n",
    "import sys\n",
    "sys.path.insert(0, \"../setigen/\")\n",
    "import setigen as stg\n",
    "from astropy import units as u\n",
    "import blimpy as bl"
   ]
  },
  {
   "cell_type": "code",
   "execution_count": 2,
   "metadata": {},
   "outputs": [],
   "source": [
    "frame = stg.Frame(fchans=1024*u.pixel,\n",
    "                  tchans=32*u.pixel,\n",
    "                  df=2.7939677238464355*u.Hz,\n",
    "                  dt=18.25361108*u.s,\n",
    "                  fch1=6095.214842353016*u.MHz)"
   ]
  },
  {
   "cell_type": "code",
   "execution_count": 10,
   "metadata": {},
   "outputs": [
    {
     "data": {
      "text/plain": [
       "['__class__',\n",
       " '__contains__',\n",
       " '__delattr__',\n",
       " '__dict__',\n",
       " '__dir__',\n",
       " '__doc__',\n",
       " '__eq__',\n",
       " '__format__',\n",
       " '__ge__',\n",
       " '__getattribute__',\n",
       " '__gt__',\n",
       " '__hash__',\n",
       " '__init__',\n",
       " '__init_subclass__',\n",
       " '__le__',\n",
       " '__len__',\n",
       " '__lt__',\n",
       " '__module__',\n",
       " '__ne__',\n",
       " '__new__',\n",
       " '__reduce__',\n",
       " '__reduce_ex__',\n",
       " '__repr__',\n",
       " '__setattr__',\n",
       " '__sizeof__',\n",
       " '__str__',\n",
       " '__subclasshook__',\n",
       " '__weakref__',\n",
       " '_handlers',\n",
       " '_name_mapping',\n",
       " 'add',\n",
       " 'close_all',\n",
       " 'filenames',\n",
       " 'get_handlers_by_name',\n",
       " 'handlers',\n",
       " 'remove']"
      ]
     },
     "execution_count": 10,
     "metadata": {},
     "output_type": "execute_result"
    }
   ],
   "source": [
    "import tables\n",
    "dir(tables.file._open_files)"
   ]
  },
  {
   "cell_type": "code",
   "execution_count": 20,
   "metadata": {},
   "outputs": [],
   "source": [
    "tables.file._open_files.close_all()"
   ]
  },
  {
   "cell_type": "code",
   "execution_count": 22,
   "metadata": {},
   "outputs": [],
   "source": [
    "import h5py"
   ]
  },
  {
   "cell_type": "code",
   "execution_count": 26,
   "metadata": {},
   "outputs": [
    {
     "name": "stdout",
     "output_type": "stream",
     "text": [
      "True\n"
     ]
    }
   ],
   "source": [
    "hFile = h5py.File(fil_fn)\n",
    "print(hFile.__bool__())\n",
    "hFile.close()"
   ]
  },
  {
   "cell_type": "code",
   "execution_count": 37,
   "metadata": {},
   "outputs": [],
   "source": [
    "import gc\n",
    "for obj in gc.get_objects():   # Browse through ALL objects\n",
    "    if isinstance(obj, h5py.File):   # Just HDF5 files\n",
    "        try:\n",
    "            obj.close()\n",
    "        except:\n",
    "            pass # Was already closed"
   ]
  },
  {
   "cell_type": "code",
   "execution_count": 38,
   "metadata": {},
   "outputs": [
    {
     "name": "stdout",
     "output_type": "stream",
     "text": [
      "blimpy.waterfall INFO     Conversion time: 0.01sec\n"
     ]
    }
   ],
   "source": [
    "fil_fn = 'temp.h5'\n",
    "frame.save_hdf5(fil_fn)"
   ]
  },
  {
   "cell_type": "code",
   "execution_count": 35,
   "metadata": {},
   "outputs": [],
   "source": [
    "temp_frame = stg.Frame(waterfall=fil_fn)"
   ]
  },
  {
   "cell_type": "code",
   "execution_count": 4,
   "metadata": {},
   "outputs": [
    {
     "data": {
      "text/plain": [
       "{'machine_id': 20,\n",
       " 'telescope_id': 6,\n",
       " 'src_raj': <Angle 17.7875 hourangle>,\n",
       " 'src_dej': <Angle -28.3831 deg>,\n",
       " 'az_start': 0.0,\n",
       " 'za_start': 0.0,\n",
       " 'data_type': 1,\n",
       " 'fch1': 6663.99999987334,\n",
       " 'foff': -1.3969838619232178e-06,\n",
       " 'nchans': 1024,\n",
       " 'nbeams': 1,\n",
       " 'ibeam': -1,\n",
       " 'nbits': 32,\n",
       " 'tstart': 58465.717094907406,\n",
       " 'tsamp': 1.431655765333332,\n",
       " 'nifs': 1,\n",
       " 'source_name': 'DIAG_SGR_B2',\n",
       " 'rawdatafile': 'blc13_guppi_58465_61957_DIAG_SGR_B2_0066.0000.raw'}"
      ]
     },
     "execution_count": 4,
     "metadata": {},
     "output_type": "execute_result"
    }
   ],
   "source": [
    "f = stg.Frame(waterfall='../setigen/setigen/assets/sample.fil')\n",
    "f.waterfall.header"
   ]
  },
  {
   "cell_type": "code",
   "execution_count": 4,
   "metadata": {},
   "outputs": [
    {
     "name": "stdout",
     "output_type": "stream",
     "text": [
      "blimpy.waterfall INFO     Conversion time: 0.02sec\n"
     ]
    }
   ],
   "source": [
    "fil_fn = 'temp.h5'\n",
    "f.save_hdf5(fil_fn)"
   ]
  },
  {
   "cell_type": "code",
   "execution_count": 5,
   "metadata": {},
   "outputs": [],
   "source": [
    "temp_frame = stg.Frame(waterfall=fil_fn)"
   ]
  },
  {
   "cell_type": "code",
   "execution_count": 6,
   "metadata": {},
   "outputs": [
    {
     "data": {
      "text/plain": [
       "{'DIMENSION_LABELS': array([b'time', b'feed_id', b'frequency'], dtype=object),\n",
       " 'az_start': 0.0,\n",
       " 'data_type': 1,\n",
       " 'fch1': 6095.214842353015,\n",
       " 'foff': -2.7939677238464355e-06,\n",
       " 'ibeam': -1,\n",
       " 'machine_id': 20,\n",
       " 'nbeams': 1,\n",
       " 'nbits': 32,\n",
       " 'nchans': 1024,\n",
       " 'nifs': 1,\n",
       " 'rawdatafile': 'Synthetic',\n",
       " 'source_name': 'Synthetic',\n",
       " 'src_dej': <Angle -28.3831 deg>,\n",
       " 'src_raj': <Angle 17.7875 hourangle>,\n",
       " 'telescope_id': 6,\n",
       " 'tsamp': 18.25361108,\n",
       " 'tstart': 58465.717094907406,\n",
       " 'za_start': 0.0}"
      ]
     },
     "execution_count": 6,
     "metadata": {},
     "output_type": "execute_result"
    }
   ],
   "source": [
    "temp_frame.header"
   ]
  },
  {
   "cell_type": "code",
   "execution_count": 6,
   "metadata": {},
   "outputs": [
    {
     "data": {
      "text/plain": [
       "array([[0., 0., 0., ..., 0., 0., 0.],\n",
       "       [0., 0., 0., ..., 0., 0., 0.],\n",
       "       [0., 0., 0., ..., 0., 0., 0.],\n",
       "       ...,\n",
       "       [0., 0., 0., ..., 0., 0., 0.],\n",
       "       [0., 0., 0., ..., 0., 0., 0.],\n",
       "       [0., 0., 0., ..., 0., 0., 0.]])"
      ]
     },
     "execution_count": 6,
     "metadata": {},
     "output_type": "execute_result"
    }
   ],
   "source": [
    "temp_frame.add_constant_signal(frame.get_frequency(256), 1, 1, 10)"
   ]
  },
  {
   "cell_type": "code",
   "execution_count": 9,
   "metadata": {},
   "outputs": [
    {
     "data": {
      "image/png": "[encoded data removed]",
      "text/plain": [
       "<Figure size 432x288 with 2 Axes>"
      ]
     },
     "metadata": {
      "needs_background": "light"
     },
     "output_type": "display_data"
    }
   ],
   "source": [
    "temp_frame.render()"
   ]
  },
  {
   "cell_type": "code",
   "execution_count": null,
   "metadata": {},
   "outputs": [],
   "source": []
  },
  {
   "cell_type": "code",
   "execution_count": 11,
   "metadata": {},
   "outputs": [
    {
     "name": "stdout",
     "output_type": "stream",
     "text": [
      "blimpy.io.base_reader WARNING  Selection size of 19.25 GB, exceeding our size limit 1.00 GB. Instance created, header loaded, but data not loaded, please try another (t,v) selection.\n"
     ]
    },
    {
     "data": {
      "text/plain": [
       "{'DIMENSION_LABELS': array([b'frequency', b'feed_id', b'time'], dtype=object),\n",
       " 'az_start': 0.0,\n",
       " 'data_type': 1,\n",
       " 'fch1': 1926.26953125,\n",
       " 'foff': -2.7939677238464355e-06,\n",
       " 'machine_id': 20,\n",
       " 'nbits': 32,\n",
       " 'nchans': 322961408,\n",
       " 'nifs': 1,\n",
       " 'source_name': 'HIP3092',\n",
       " 'src_dej': <Angle 30.86055694 deg>,\n",
       " 'src_raj': <Angle 0.6555 hourangle>,\n",
       " 'telescope_id': 6,\n",
       " 'tsamp': 18.253611008,\n",
       " 'tstart': 57557.55259259259,\n",
       " 'za_start': 0.0}"
      ]
     },
     "execution_count": 11,
     "metadata": {},
     "output_type": "execute_result"
    }
   ],
   "source": [
    "h5_path = '/mnt_blpd7/datax/hard_linked_in_dl/gbl/spliced_blc0001020304050607_guppi_57557_47744_HIP3092_0005.gpuspec.0000.h5'\n",
    "f = bl.Waterfall(h5_path)\n",
    "f.header"
   ]
  },
  {
   "cell_type": "code",
   "execution_count": 22,
   "metadata": {},
   "outputs": [],
   "source": [
    "h5_path = '/mnt_blpd7/datax/hard_linked_in_dl/gbl/spliced_blc0001020304050607_guppi_57557_47744_HIP3092_0005.gpuspec.0000.h5'\n",
    "gen = stg.split_waterfall_generator(h5_path, 1024,)"
   ]
  },
  {
   "cell_type": "code",
   "execution_count": 23,
   "metadata": {},
   "outputs": [
    {
     "name": "stdout",
     "output_type": "stream",
     "text": [
      "blimpy.io.base_reader INFO     Skipping loading data ...\n"
     ]
    }
   ],
   "source": [
    "wf = next(gen)"
   ]
  },
  {
   "cell_type": "code",
   "execution_count": 24,
   "metadata": {},
   "outputs": [],
   "source": [
    "frame = stg.Frame(wf)"
   ]
  },
  {
   "cell_type": "code",
   "execution_count": 27,
   "metadata": {},
   "outputs": [
    {
     "data": {
      "image/png": "[encoded data removed]",
      "text/plain": [
       "<Figure size 432x288 with 2 Axes>"
      ]
     },
     "metadata": {
      "needs_background": "light"
     },
     "output_type": "display_data"
    }
   ],
   "source": [
    "frame.render()"
   ]
  },
  {
   "cell_type": "code",
   "execution_count": 28,
   "metadata": {},
   "outputs": [
    {
     "name": "stdout",
     "output_type": "stream",
     "text": [
      "blimpy.waterfall INFO     Conversion time: 0.00sec\n"
     ]
    }
   ],
   "source": [
    "frame.save_fil(filename='test.fil')"
   ]
  },
  {
   "cell_type": "code",
   "execution_count": 18,
   "metadata": {},
   "outputs": [
    {
     "data": {
      "text/plain": [
       "{'machine_id': 20,\n",
       " 'telescope_id': 6,\n",
       " 'src_raj': <Angle 17.7875 hourangle>,\n",
       " 'src_dej': <Angle -28.3831 deg>,\n",
       " 'az_start': 0.0,\n",
       " 'za_start': 0.0,\n",
       " 'data_type': 1,\n",
       " 'fch1': 6663.99999987334,\n",
       " 'foff': -1.3969838619232178e-06,\n",
       " 'nchans': 1024,\n",
       " 'nbeams': 1,\n",
       " 'ibeam': -1,\n",
       " 'nbits': 32,\n",
       " 'tstart': 58465.717094907406,\n",
       " 'tsamp': 1.431655765333332,\n",
       " 'nifs': 1,\n",
       " 'source_name': 'DIAG_SGR_B2',\n",
       " 'rawdatafile': 'blc13_guppi_58465_61957_DIAG_SGR_B2_0066.0000.raw'}"
      ]
     },
     "execution_count": 18,
     "metadata": {},
     "output_type": "execute_result"
    }
   ],
   "source": [
    "f = stg.Frame(waterfall='../setigen/setigen/assets/sample.fil')\n",
    "f.waterfall.header"
   ]
  },
  {
   "cell_type": "code",
   "execution_count": 19,
   "metadata": {},
   "outputs": [
    {
     "data": {
      "text/plain": [
       "{'DIMENSION_LABELS': array([b'frequency', b'feed_id', b'time'], dtype=object),\n",
       " 'az_start': 0.0,\n",
       " 'data_type': 1,\n",
       " 'fch1': 1926.26953125,\n",
       " 'foff': -2.7939677238464355e-06,\n",
       " 'machine_id': 20,\n",
       " 'nbits': 32,\n",
       " 'nchans': 322961408,\n",
       " 'nifs': 1,\n",
       " 'source_name': 'HIP3092',\n",
       " 'src_dej': <Angle 30.86055694 deg>,\n",
       " 'src_raj': <Angle 0.6555 hourangle>,\n",
       " 'telescope_id': 6,\n",
       " 'tsamp': 18.253611008,\n",
       " 'tstart': 57557.55259259259,\n",
       " 'za_start': 0.0}"
      ]
     },
     "execution_count": 19,
     "metadata": {},
     "output_type": "execute_result"
    }
   ],
   "source": [
    "frame.waterfall.header"
   ]
  },
  {
   "cell_type": "code",
   "execution_count": 20,
   "metadata": {},
   "outputs": [
    {
     "data": {
      "text/plain": [
       "{'ibeam', 'nbeams', 'rawdatafile'}"
      ]
     },
     "execution_count": 20,
     "metadata": {},
     "output_type": "execute_result"
    }
   ],
   "source": [
    "set(f.waterfall.header.keys()) - set(frame.waterfall.header.keys())"
   ]
  },
  {
   "cell_type": "code",
   "execution_count": 28,
   "metadata": {},
   "outputs": [
    {
     "data": {
      "text/plain": [
       "\u001b[0;31mSignature:\u001b[0m \u001b[0mframe\u001b[0m\u001b[0;34m.\u001b[0m\u001b[0msave_fil\u001b[0m\u001b[0;34m(\u001b[0m\u001b[0mfilename\u001b[0m\u001b[0;34m)\u001b[0m\u001b[0;34m\u001b[0m\u001b[0;34m\u001b[0m\u001b[0m\n",
       "\u001b[0;31mSource:\u001b[0m   \n",
       "    \u001b[0;32mdef\u001b[0m \u001b[0msave_fil\u001b[0m\u001b[0;34m(\u001b[0m\u001b[0mself\u001b[0m\u001b[0;34m,\u001b[0m \u001b[0mfilename\u001b[0m\u001b[0;34m)\u001b[0m\u001b[0;34m:\u001b[0m\u001b[0;34m\u001b[0m\n",
       "\u001b[0;34m\u001b[0m        \u001b[0;34m\"\"\"\u001b[0m\n",
       "\u001b[0;34m        Save frame data as a filterbank file (.fil).\u001b[0m\n",
       "\u001b[0;34m        \"\"\"\u001b[0m\u001b[0;34m\u001b[0m\n",
       "\u001b[0;34m\u001b[0m        \u001b[0mself\u001b[0m\u001b[0;34m.\u001b[0m\u001b[0m_update_waterfall\u001b[0m\u001b[0;34m(\u001b[0m\u001b[0;34m)\u001b[0m\u001b[0;34m\u001b[0m\n",
       "\u001b[0;34m\u001b[0m        \u001b[0mself\u001b[0m\u001b[0;34m.\u001b[0m\u001b[0m_encode_bytestrings\u001b[0m\u001b[0;34m(\u001b[0m\u001b[0;34m)\u001b[0m\u001b[0;34m\u001b[0m\n",
       "\u001b[0;34m\u001b[0m        \u001b[0mself\u001b[0m\u001b[0;34m.\u001b[0m\u001b[0mwaterfall\u001b[0m\u001b[0;34m.\u001b[0m\u001b[0mwrite_to_fil\u001b[0m\u001b[0;34m(\u001b[0m\u001b[0mfilename\u001b[0m\u001b[0;34m)\u001b[0m\u001b[0;34m\u001b[0m\n",
       "\u001b[0;34m\u001b[0m        \u001b[0mself\u001b[0m\u001b[0;34m.\u001b[0m\u001b[0m_decode_bytestrings\u001b[0m\u001b[0;34m(\u001b[0m\u001b[0;34m)\u001b[0m\u001b[0;34m\u001b[0m\u001b[0;34m\u001b[0m\u001b[0m\n",
       "\u001b[0;31mFile:\u001b[0m      /mnt_home/bryanb/setigen/setigen/frame.py\n",
       "\u001b[0;31mType:\u001b[0m      method\n"
      ]
     },
     "metadata": {},
     "output_type": "display_data"
    }
   ],
   "source": [
    "frame.save_fil??"
   ]
  },
  {
   "cell_type": "code",
   "execution_count": 21,
   "metadata": {},
   "outputs": [
    {
     "data": {
      "text/plain": [
       "\u001b[0;31mSignature:\u001b[0m \u001b[0mframe\u001b[0m\u001b[0;34m.\u001b[0m\u001b[0m_encode_bytestrings\u001b[0m\u001b[0;34m(\u001b[0m\u001b[0;34m)\u001b[0m\u001b[0;34m\u001b[0m\u001b[0;34m\u001b[0m\u001b[0m\n",
       "\u001b[0;31mDocstring:\u001b[0m <no docstring>\n",
       "\u001b[0;31mSource:\u001b[0m   \n",
       "    \u001b[0;32mdef\u001b[0m \u001b[0m_encode_bytestrings\u001b[0m\u001b[0;34m(\u001b[0m\u001b[0mself\u001b[0m\u001b[0;34m)\u001b[0m\u001b[0;34m:\u001b[0m\u001b[0;34m\u001b[0m\n",
       "\u001b[0;34m\u001b[0m        \u001b[0;32mfor\u001b[0m \u001b[0mkey\u001b[0m \u001b[0;32min\u001b[0m \u001b[0;34m[\u001b[0m\u001b[0;34m'source_name'\u001b[0m\u001b[0;34m,\u001b[0m \u001b[0;34m'rawdatafile'\u001b[0m\u001b[0;34m]\u001b[0m\u001b[0;34m:\u001b[0m\u001b[0;34m\u001b[0m\n",
       "\u001b[0;34m\u001b[0m            \u001b[0;31m# Some data don't have these keys to begin with\u001b[0m\u001b[0;34m\u001b[0m\n",
       "\u001b[0;34m\u001b[0m            \u001b[0;32mif\u001b[0m \u001b[0mkey\u001b[0m \u001b[0;32min\u001b[0m \u001b[0mself\u001b[0m\u001b[0;34m.\u001b[0m\u001b[0mwaterfall\u001b[0m\u001b[0;34m.\u001b[0m\u001b[0mheader\u001b[0m\u001b[0;34m:\u001b[0m\u001b[0;34m\u001b[0m\n",
       "\u001b[0;34m\u001b[0m                \u001b[0;32mif\u001b[0m \u001b[0;32mnot\u001b[0m \u001b[0misinstance\u001b[0m\u001b[0;34m(\u001b[0m\u001b[0mself\u001b[0m\u001b[0;34m.\u001b[0m\u001b[0mwaterfall\u001b[0m\u001b[0;34m.\u001b[0m\u001b[0mheader\u001b[0m\u001b[0;34m[\u001b[0m\u001b[0mkey\u001b[0m\u001b[0;34m]\u001b[0m\u001b[0;34m,\u001b[0m \u001b[0mbytes\u001b[0m\u001b[0;34m)\u001b[0m\u001b[0;34m:\u001b[0m\u001b[0;34m\u001b[0m\n",
       "\u001b[0;34m\u001b[0m                    \u001b[0mself\u001b[0m\u001b[0;34m.\u001b[0m\u001b[0mwaterfall\u001b[0m\u001b[0;34m.\u001b[0m\u001b[0mheader\u001b[0m\u001b[0;34m[\u001b[0m\u001b[0mkey\u001b[0m\u001b[0;34m]\u001b[0m \u001b[0;34m=\u001b[0m \u001b[0mself\u001b[0m\u001b[0;34m.\u001b[0m\u001b[0mwaterfall\u001b[0m\u001b[0;34m.\u001b[0m\u001b[0mheader\u001b[0m\u001b[0;34m[\u001b[0m\u001b[0mkey\u001b[0m\u001b[0;34m]\u001b[0m\u001b[0;34m.\u001b[0m\u001b[0mencode\u001b[0m\u001b[0;34m(\u001b[0m\u001b[0;34m)\u001b[0m\u001b[0;34m\u001b[0m\u001b[0;34m\u001b[0m\u001b[0m\n",
       "\u001b[0;31mFile:\u001b[0m      /mnt_home/bryanb/setigen/setigen/frame.py\n",
       "\u001b[0;31mType:\u001b[0m      method\n"
      ]
     },
     "metadata": {},
     "output_type": "display_data"
    }
   ],
   "source": [
    "frame._encode_bytestrings??"
   ]
  },
  {
   "cell_type": "code",
   "execution_count": 10,
   "metadata": {},
   "outputs": [],
   "source": [
    "del f.waterfall.header['rawdatafile']"
   ]
  },
  {
   "cell_type": "code",
   "execution_count": 11,
   "metadata": {},
   "outputs": [
    {
     "data": {
      "text/plain": [
       "{'machine_id': 20,\n",
       " 'telescope_id': 6,\n",
       " 'src_raj': <Angle 17.7875 hourangle>,\n",
       " 'src_dej': <Angle -28.3831 deg>,\n",
       " 'az_start': 0.0,\n",
       " 'za_start': 0.0,\n",
       " 'data_type': 1,\n",
       " 'fch1': 6663.99999987334,\n",
       " 'foff': -1.3969838619232178e-06,\n",
       " 'nchans': 1024,\n",
       " 'nbeams': 1,\n",
       " 'ibeam': -1,\n",
       " 'nbits': 32,\n",
       " 'tstart': 58465.717094907406,\n",
       " 'tsamp': 1.431655765333332,\n",
       " 'nifs': 1,\n",
       " 'source_name': 'DIAG_SGR_B2'}"
      ]
     },
     "execution_count": 11,
     "metadata": {},
     "output_type": "execute_result"
    }
   ],
   "source": [
    "f.waterfall.header"
   ]
  },
  {
   "cell_type": "code",
   "execution_count": null,
   "metadata": {},
   "outputs": [],
   "source": []
  }
 ],
 "metadata": {
  "kernelspec": {
   "display_name": "Python (py38)",
   "language": "python",
   "name": "py38"
  },
  "language_info": {
   "codemirror_mode": {
    "name": "ipython",
    "version": 3
   },
   "file_extension": ".py",
   "mimetype": "text/x-python",
   "name": "python",
   "nbconvert_exporter": "python",
   "pygments_lexer": "ipython3",
   "version": "3.8.1"
  }
 },
 "nbformat": 4,
 "nbformat_minor": 4
}
