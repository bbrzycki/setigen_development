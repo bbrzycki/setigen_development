{
 "cells": [
  {
   "cell_type": "code",
   "execution_count": 25,
   "metadata": {},
   "outputs": [
    {
     "name": "stdout",
     "output_type": "stream",
     "text": [
      "The autoreload extension is already loaded. To reload it, use:\n",
      "  %reload_ext autoreload\n"
     ]
    }
   ],
   "source": [
    "%matplotlib inline\n",
    "import matplotlib.pyplot as plt\n",
    "\n",
    "%load_ext autoreload\n",
    "%autoreload 2\n",
    "\n",
    "from astropy import units as u\n",
    "import numpy as np\n",
    "\n",
    "import time\n",
    "import sys\n",
    "sys.path.insert(0, '../../')\n",
    "import setigen as stg\n",
    "import blimpy as bl\n",
    "import os\n",
    "import os.path\n",
    "from blimpy import Waterfall"
   ]
  },
  {
   "cell_type": "code",
   "execution_count": 3,
   "metadata": {},
   "outputs": [
    {
     "name": "stderr",
     "output_type": "stream",
     "text": [
      "/Users/bryanbrzycki/anaconda3/envs/seti/lib/python3.7/site-packages/blimpy/file_wrapper.py:322: H5pyDeprecationWarning: The default file mode will change to 'r' (read-only) in h5py 3.0. To suppress this warning, pass the mode you need to h5py.File(), or set the global default h5.get_config().default_file_mode, or set the environment variable H5PY_DEFAULT_READONLY=1. Available modes are: 'r', 'r+', 'w', 'w-'/'x', 'a'. See the docs for details.\n",
      "  self.h5 = h5py.File(self.filename)\n"
     ]
    }
   ],
   "source": [
    "frame = stg.Frame(fil='../../sarahs/Voyager1.single_coarse.fine_res.h5')"
   ]
  },
  {
   "cell_type": "code",
   "execution_count": 12,
   "metadata": {},
   "outputs": [],
   "source": [
    "frame = stg.Frame(fil='../../sarahs/test.fil')"
   ]
  },
  {
   "cell_type": "code",
   "execution_count": 56,
   "metadata": {},
   "outputs": [
    {
     "name": "stderr",
     "output_type": "stream",
     "text": [
      "/Users/bryanbrzycki/anaconda3/envs/seti/lib/python3.7/site-packages/blimpy/file_wrapper.py:322: H5pyDeprecationWarning: The default file mode will change to 'r' (read-only) in h5py 3.0. To suppress this warning, pass the mode you need to h5py.File(), or set the global default h5.get_config().default_file_mode, or set the environment variable H5PY_DEFAULT_READONLY=1. Available modes are: 'r', 'r+', 'w', 'w-'/'x', 'a'. See the docs for details.\n",
      "  self.h5 = h5py.File(self.filename)\n"
     ]
    },
    {
     "name": "stdout",
     "output_type": "stream",
     "text": [
      "Loaded in 1.8335649967193604 seconds\n",
      "signal 1 in 0.06848597526550293 seconds\n",
      "signal 2 in 0.043498992919921875 seconds\n",
      "signal 3 in 0.04109978675842285 seconds\n",
      "signal 4 in 0.04107403755187988 seconds\n",
      "signal 5 in 0.04194903373718262 seconds\n",
      "signal 6 in 0.04158806800842285 seconds\n",
      "signal 7 in 0.04028606414794922 seconds\n",
      "signal 8 in 0.042301177978515625 seconds\n",
      "signal 9 in 0.04091286659240723 seconds\n"
     ]
    },
    {
     "data": {
      "image/png": "[encoded data removed]",
      "text/plain": [
       "<Figure size 720x432 with 2 Axes>"
      ]
     },
     "metadata": {
      "needs_background": "light"
     },
     "output_type": "display_data"
    },
    {
     "name": "stdout",
     "output_type": "stream",
     "text": [
      "Finished in 2.600624 seconds\n"
     ]
    }
   ],
   "source": [
    "start = time.time()\n",
    "\n",
    "data_file = '../../sarahs/Voyager1.single_coarse.fine_res.h5'\n",
    "input_file = '../../sarahs/signal_test.csv'\n",
    "output_file = '../../sarahs/test.fil'\n",
    "\n",
    "\n",
    "fchans = 1000000\n",
    "tchans = 16\n",
    "df = 2.7939677238464355*u.Hz\n",
    "dt = 18.25361108*u.s\n",
    "fch1 = 6095.214842353016*u.MHz\n",
    "\n",
    "# frame = stg.Frame(fchans, tchans, df, dt, fch1)\n",
    "\n",
    "# obs = Waterfall(data_file)\n",
    "frame = stg.Frame(fil=data_file)\n",
    "\n",
    "test_file = np.genfromtxt(input_file, delimiter=',')\n",
    "\n",
    "print(f'Loaded in {time.time() - start} seconds')\n",
    "then = time.time()\n",
    "\n",
    "for i in range(1, test_file.shape[0]):\n",
    "    \n",
    "    fre = int(test_file[i][0])\n",
    "    drift = test_file[i][1]\n",
    "    width = int(test_file[i][3])\n",
    "    \n",
    "    signal = frame.add_constant_signal(f_start=frame.fs[fre],\n",
    "                                   drift_rate=drift*u.Hz/u.s, \n",
    "                                   level=10**13,\n",
    "                                   width=3*width*u.Hz, \n",
    "                                   f_profile_type='gaussian')\n",
    "\n",
    "    print(f'signal {i} in {time.time() - then} seconds')\n",
    "    then = time.time()\n",
    "\n",
    "fig = plt.figure(figsize=(10, 6))\n",
    "plt.imshow(frame.get_data(), aspect='auto')\n",
    "plt.colorbar()\n",
    "plt.show()\n",
    "\n",
    "# fig.savefig(\"basic_signal.png\", bbox_inches='tight')\n",
    "\n",
    "\n",
    "# frame.save_fil(output_file)\n",
    "\n",
    "print('Finished in %f seconds' % (time.time() - start))"
   ]
  },
  {
   "cell_type": "code",
   "execution_count": 57,
   "metadata": {},
   "outputs": [
    {
     "name": "stderr",
     "output_type": "stream",
     "text": [
      "/Users/bryanbrzycki/anaconda3/envs/seti/lib/python3.7/site-packages/blimpy/file_wrapper.py:322: H5pyDeprecationWarning: The default file mode will change to 'r' (read-only) in h5py 3.0. To suppress this warning, pass the mode you need to h5py.File(), or set the global default h5.get_config().default_file_mode, or set the environment variable H5PY_DEFAULT_READONLY=1. Available modes are: 'r', 'r+', 'w', 'w-'/'x', 'a'. See the docs for details.\n",
      "  self.h5 = h5py.File(self.filename)\n"
     ]
    },
    {
     "name": "stdout",
     "output_type": "stream",
     "text": [
      "Loaded in 1.8484599590301514 seconds\n",
      "signal 1 in 0.03293800354003906 seconds\n",
      "signal 2 in 0.018447160720825195 seconds\n",
      "signal 3 in 0.019913911819458008 seconds\n",
      "signal 4 in 0.019747018814086914 seconds\n",
      "signal 5 in 0.019481182098388672 seconds\n",
      "signal 6 in 0.018713951110839844 seconds\n",
      "signal 7 in 0.020318031311035156 seconds\n",
      "signal 8 in 0.020359039306640625 seconds\n",
      "signal 9 in 0.021207809448242188 seconds\n"
     ]
    },
    {
     "data": {
      "image/png": "[encoded data removed]",
      "text/plain": [
       "<Figure size 720x432 with 2 Axes>"
      ]
     },
     "metadata": {
      "needs_background": "light"
     },
     "output_type": "display_data"
    },
    {
     "name": "stdout",
     "output_type": "stream",
     "text": [
      "Finished in 2.424116 seconds\n"
     ]
    }
   ],
   "source": [
    "start = time.time()\n",
    "\n",
    "data_file = '../../sarahs/Voyager1.single_coarse.fine_res.h5'\n",
    "input_file = '../../sarahs/signal_test.csv'\n",
    "output_file = '../../sarahs/test.fil'\n",
    "\n",
    "\n",
    "fchans = 1000000\n",
    "tchans = 16\n",
    "df = 2.7939677238464355*u.Hz\n",
    "dt = 18.25361108*u.s\n",
    "fch1 = 6095.214842353016*u.MHz\n",
    "\n",
    "# frame = stg.Frame(fchans, tchans, df, dt, fch1)\n",
    "\n",
    "# obs = Waterfall(data_file)\n",
    "frame = stg.Frame(fil=data_file)\n",
    "\n",
    "test_file = np.genfromtxt(input_file, delimiter=',')\n",
    "\n",
    "print(f'Loaded in {time.time() - start} seconds')\n",
    "then = time.time()\n",
    "\n",
    "for i in range(1, test_file.shape[0]):\n",
    "    \n",
    "    fre = int(test_file[i][0])\n",
    "    drift = test_file[i][1]\n",
    "    width = int(test_file[i][3])\n",
    "    \n",
    "    signal = frame.add_constant_signal(f_start=frame.fs[fre],\n",
    "                                   drift_rate=drift*u.Hz/u.s, \n",
    "                                   level=10**13,\n",
    "                                   width=3*width*u.Hz, \n",
    "                                   f_profile_type='box')\n",
    "\n",
    "    print(f'signal {i} in {time.time() - then} seconds')\n",
    "    then = time.time()\n",
    "\n",
    "fig = plt.figure(figsize=(10, 6))\n",
    "plt.imshow(frame.get_data(), aspect='auto')\n",
    "plt.colorbar()\n",
    "plt.show()\n",
    "\n",
    "# fig.savefig(\"basic_signal.png\", bbox_inches='tight')\n",
    "\n",
    "\n",
    "# frame.save_fil(output_file)\n",
    "\n",
    "print('Finished in %f seconds' % (time.time() - start))"
   ]
  },
  {
   "cell_type": "code",
   "execution_count": 75,
   "metadata": {},
   "outputs": [
    {
     "name": "stdout",
     "output_type": "stream",
     "text": [
      "Loaded in 0.5603971481323242 seconds\n",
      "Noise in 0.7960240840911865 seconds\n",
      "signal 1 in 0.047753095626831055 seconds\n",
      "signal 2 in 0.01719069480895996 seconds\n",
      "signal 3 in 0.01795482635498047 seconds\n",
      "signal 4 in 0.017277002334594727 seconds\n",
      "signal 5 in 0.01748204231262207 seconds\n",
      "signal 6 in 0.017040014266967773 seconds\n",
      "signal 7 in 0.01780390739440918 seconds\n",
      "signal 8 in 0.017096996307373047 seconds\n",
      "signal 9 in 0.0175631046295166 seconds\n"
     ]
    },
    {
     "data": {
      "image/png": "[encoded data removed]",
      "text/plain": [
       "<Figure size 720x432 with 2 Axes>"
      ]
     },
     "metadata": {
      "needs_background": "light"
     },
     "output_type": "display_data"
    },
    {
     "name": "stdout",
     "output_type": "stream",
     "text": [
      "Finished in 2.256086 seconds\n"
     ]
    }
   ],
   "source": [
    "start = time.time()\n",
    "\n",
    "data_file = '../../sarahs/Voyager1.single_coarse.fine_res.h5'\n",
    "input_file = '../../sarahs/signal_test.csv'\n",
    "output_file = '../../sarahs/test.fil'\n",
    "\n",
    "fchans = 1048576\n",
    "tchans = 16\n",
    "df = 2.7939677238464355*u.Hz\n",
    "dt = 18.25361108*u.s\n",
    "fch1 = 6095.214842353016*u.MHz\n",
    "\n",
    "frame = stg.Frame(fchans, tchans, df, dt, fch1)\n",
    "\n",
    "# obs = Waterfall(data_file)\n",
    "# frame = stg.Frame(fil=data_file)\n",
    "\n",
    "test_file = np.genfromtxt(input_file, delimiter=',')\n",
    "\n",
    "print(f'Loaded in {time.time() - start} seconds')\n",
    "then = time.time()\n",
    "\n",
    "frame.add_noise_from_obs()\n",
    "print(f'Noise in {time.time() - then} seconds')\n",
    "then = time.time()\n",
    "\n",
    "# frame.add_noise_from_obs()\n",
    "# print(f'Noise in {time.time() - then} seconds')\n",
    "# then = time.time()\n",
    "\n",
    "# frame.add_noise_from_obs()\n",
    "# print(f'Noise in {time.time() - then} seconds')\n",
    "# then = time.time()\n",
    "\n",
    "# frame.add_noise_from_obs()\n",
    "# print(f'Noise in {time.time() - then} seconds')\n",
    "# then = time.time()\n",
    "\n",
    "# frame.add_noise_from_obs()\n",
    "# print(f'Noise in {time.time() - then} seconds')\n",
    "# then = time.time()\n",
    "\n",
    "for i in range(1, test_file.shape[0]):\n",
    "    \n",
    "    fre = int(test_file[i][0])\n",
    "    drift = test_file[i][1]\n",
    "    width = int(test_file[i][3])\n",
    "    \n",
    "    signal = frame.add_constant_signal(f_start=frame.fs[fre],\n",
    "                                   drift_rate=drift*u.Hz/u.s, \n",
    "                                   level=10**13,\n",
    "                                   width=3*width*u.Hz, \n",
    "                                   f_profile_type='box')\n",
    "\n",
    "    print(f'signal {i} in {time.time() - then} seconds')\n",
    "    then = time.time()\n",
    "\n",
    "fig = plt.figure(figsize=(10, 6))\n",
    "plt.imshow(frame.get_data(), aspect='auto')\n",
    "plt.colorbar()\n",
    "plt.show()\n",
    "\n",
    "# fig.savefig(\"basic_signal.png\", bbox_inches='tight')\n",
    "\n",
    "\n",
    "# frame.save_fil(output_file)\n",
    "\n",
    "print('Finished in %f seconds' % (time.time() - start))"
   ]
  },
  {
   "cell_type": "code",
   "execution_count": 79,
   "metadata": {},
   "outputs": [
    {
     "data": {
      "text/plain": [
       "1.5931336879730225"
      ]
     },
     "execution_count": 79,
     "metadata": {},
     "output_type": "execute_result"
    }
   ],
   "source": [
    "a = time.time()\n",
    "frame._update_noise_frame_stats()\n",
    "time.time() - a"
   ]
  },
  {
   "cell_type": "code",
   "execution_count": 29,
   "metadata": {},
   "outputs": [
    {
     "data": {
      "text/plain": [
       "0.00644993782043457"
      ]
     },
     "execution_count": 29,
     "metadata": {},
     "output_type": "execute_result"
    }
   ],
   "source": [
    "a = time.time()\n",
    "np.mean(frame.get_data())\n",
    "time.time() - a"
   ]
  },
  {
   "cell_type": "code",
   "execution_count": 30,
   "metadata": {},
   "outputs": [
    {
     "data": {
      "text/plain": [
       "0.064"
      ]
     },
     "execution_count": 30,
     "metadata": {},
     "output_type": "execute_result"
    }
   ],
   "source": [
    "0.0064*10"
   ]
  },
  {
   "cell_type": "code",
   "execution_count": 32,
   "metadata": {},
   "outputs": [
    {
     "data": {
      "text/plain": [
       "(16, 1048576)"
      ]
     },
     "execution_count": 32,
     "metadata": {},
     "output_type": "execute_result"
    }
   ],
   "source": [
    "frame.data.shape"
   ]
  },
  {
   "cell_type": "code",
   "execution_count": 80,
   "metadata": {},
   "outputs": [
    {
     "name": "stderr",
     "output_type": "stream",
     "text": [
      "/Users/bryanbrzycki/anaconda3/envs/seti/lib/python3.7/site-packages/blimpy/file_wrapper.py:322: H5pyDeprecationWarning: The default file mode will change to 'r' (read-only) in h5py 3.0. To suppress this warning, pass the mode you need to h5py.File(), or set the global default h5.get_config().default_file_mode, or set the environment variable H5PY_DEFAULT_READONLY=1. Available modes are: 'r', 'r+', 'w', 'w-'/'x', 'a'. See the docs for details.\n",
      "  self.h5 = h5py.File(self.filename)\n"
     ]
    },
    {
     "name": "stdout",
     "output_type": "stream",
     "text": [
      "Loaded in 1.6993179321289062 seconds\n",
      "signal 1 in 1.067915916442871 seconds\n",
      "signal 2 in 1.0816760063171387 seconds\n",
      "signal 3 in 1.0883960723876953 seconds\n",
      "signal 4 in 1.104055643081665 seconds\n",
      "signal 5 in 1.0928261280059814 seconds\n",
      "signal 6 in 1.0966641902923584 seconds\n",
      "signal 7 in 1.0873639583587646 seconds\n",
      "signal 8 in 1.0757339000701904 seconds\n",
      "signal 9 in 1.0703301429748535 seconds\n"
     ]
    },
    {
     "data": {
      "image/png": "[encoded data removed]",
      "text/plain": [
       "<Figure size 720x432 with 2 Axes>"
      ]
     },
     "metadata": {
      "needs_background": "light"
     },
     "output_type": "display_data"
    },
    {
     "name": "stdout",
     "output_type": "stream",
     "text": [
      "Finished in 11.837796 seconds\n"
     ]
    }
   ],
   "source": [
    "start = time.time()\n",
    "\n",
    "frame = stg.Frame(fil=data_file)\n",
    "\n",
    "test_file = np.genfromtxt(input_file, delimiter=',')\n",
    "\n",
    "\n",
    "print(f'Loaded in {time.time() - start} seconds')\n",
    "then = time.time()\n",
    "\n",
    "for i in range(1, test_file.shape[0]):\n",
    "    \n",
    "    fre = int(test_file[i][0])\n",
    "    drift = test_file[i][1]\n",
    "    width = int(test_file[i][3])\n",
    "\n",
    "    signal = frame.add_signal(stg.constant_path(f_start=frame.fs[fre],\n",
    "                                       drift_rate=drift*u.Hz/u.s), \n",
    "                     stg.constant_t_profile(level=10**13),\n",
    "                     stg.box_f_profile(width=3*width*u.Hz), \n",
    "                     stg.constant_bp_profile(level=1))\n",
    "\n",
    "    print(f'signal {i} in {time.time() - then} seconds')\n",
    "    then = time.time()\n",
    "    \n",
    "\n",
    "fig = plt.figure(figsize=(10, 6))\n",
    "plt.imshow(frame.get_data(), aspect='auto')\n",
    "plt.colorbar()\n",
    "plt.show()\n",
    "\n",
    "print('Finished in %f seconds' % (time.time() - start))"
   ]
  },
  {
   "cell_type": "code",
   "execution_count": 81,
   "metadata": {},
   "outputs": [
    {
     "data": {
      "text/plain": [
       "{'fil': Filterbank data: ../../sarahs/Voyager1.single_coarse.fine_res.h5,\n",
       " 'header': {b'DIMENSION_LABELS': array([b'frequency', b'feed_id', b'time'], dtype=object),\n",
       "  b'az_start': 0.0,\n",
       "  b'data_type': 1,\n",
       "  b'fch1': 8421.386717353016,\n",
       "  b'foff': -2.7939677238464355e-06,\n",
       "  b'ibeam': 1,\n",
       "  b'machine_id': 20,\n",
       "  b'nbeams': 1,\n",
       "  b'nbits': 32,\n",
       "  b'nchans': 1048576,\n",
       "  b'nifs': 1,\n",
       "  b'rawdatafile': b'guppi_57650_67573_Voyager1_0002.0000.raw',\n",
       "  b'source_name': b'Voyager1',\n",
       "  b'src_dej': <Angle 12.183 deg>,\n",
       "  b'src_raj': <Angle 17.16777333 hourangle>,\n",
       "  b'telescope_id': 6,\n",
       "  b'tsamp': 18.253611008,\n",
       "  b'tstart': 57650.78209490741,\n",
       "  b'za_start': 0.0},\n",
       " 'fchans': 1048576,\n",
       " 'df': 2.7939677238464355,\n",
       " 'fch1': 8421386717.353016,\n",
       " 'data': array([[5.1364244e+09, 4.8248212e+09, 5.5999278e+09, ..., 5.2598994e+09,\n",
       "         5.0594243e+09, 4.7153664e+09],\n",
       "        [5.4136443e+09, 6.1820396e+09, 5.6150144e+09, ..., 6.0981827e+09,\n",
       "         5.7968077e+09, 4.0829606e+09],\n",
       "        [4.8860759e+09, 6.3778324e+09, 5.7480791e+09, ..., 4.8825871e+09,\n",
       "         4.5643085e+09, 6.0969042e+09],\n",
       "        ...,\n",
       "        [4.5465462e+09, 5.4823839e+09, 5.5374638e+09, ..., 6.5669519e+09,\n",
       "         6.9754767e+09, 5.2300421e+09],\n",
       "        [5.5435684e+09, 6.8120940e+09, 5.9645199e+09, ..., 5.0858148e+09,\n",
       "         5.3736463e+09, 5.9129923e+09],\n",
       "        [6.1659500e+09, 6.2374968e+09, 5.2053617e+09, ..., 5.3549251e+09,\n",
       "         4.9529795e+09, 5.4934717e+09]], dtype=float32),\n",
       " 'tchans': 16,\n",
       " 'dt': 18.253611008,\n",
       " 'shape': (16, 1048576),\n",
       " 'fmax': 8421386717.353016,\n",
       " 'fmin': 8418457029.853016,\n",
       " 'fs': array([8.41845703e+09, 8.41845703e+09, 8.41845704e+09, ...,\n",
       "        8.42138671e+09, 8.42138671e+09, 8.42138672e+09]),\n",
       " 'ts': array([  0.        ,  18.25361101,  36.50722202,  54.76083302,\n",
       "         73.01444403,  91.26805504, 109.52166605, 127.77527706,\n",
       "        146.02888806, 164.28249907, 182.53611008, 200.78972109,\n",
       "        219.0433321 , 237.2969431 , 255.55055411, 273.80416512]),\n",
       " 'noise_mean': 10437819000.0,\n",
       " 'noise_std': 1758955800.0}"
      ]
     },
     "execution_count": 81,
     "metadata": {},
     "output_type": "execute_result"
    }
   ],
   "source": [
    "frame.get_info()"
   ]
  },
  {
   "cell_type": "code",
   "execution_count": 37,
   "metadata": {},
   "outputs": [
    {
     "data": {
      "text/plain": [
       "['__builtins__',\n",
       " '__cached__',\n",
       " '__doc__',\n",
       " '__file__',\n",
       " '__loader__',\n",
       " '__name__',\n",
       " '__package__',\n",
       " '__spec__',\n",
       " 'compute_frame_stats',\n",
       " 'exclude_and_flatten',\n",
       " 'get_mean',\n",
       " 'get_min',\n",
       " 'get_std',\n",
       " 'np']"
      ]
     },
     "execution_count": 37,
     "metadata": {},
     "output_type": "execute_result"
    }
   ],
   "source": [
    "dir(stg.stats)"
   ]
  },
  {
   "cell_type": "code",
   "execution_count": 47,
   "metadata": {},
   "outputs": [
    {
     "data": {
      "text/plain": [
       "1.7095322608947754"
      ]
     },
     "execution_count": 47,
     "metadata": {},
     "output_type": "execute_result"
    }
   ],
   "source": [
    "a = time.time()\n",
    "stg.stats.compute_frame_stats(frame.get_data())\n",
    "time.time() - a"
   ]
  },
  {
   "cell_type": "code",
   "execution_count": 74,
   "metadata": {},
   "outputs": [
    {
     "data": {
      "text/plain": [
       "1.29575514793396"
      ]
     },
     "execution_count": 74,
     "metadata": {},
     "output_type": "execute_result"
    }
   ],
   "source": [
    "a = time.time()\n",
    "frame._update_noise_frame_stats()\n",
    "time.time() - a"
   ]
  },
  {
   "cell_type": "code",
   "execution_count": 85,
   "metadata": {},
   "outputs": [
    {
     "name": "stderr",
     "output_type": "stream",
     "text": [
      "/Users/bryanbrzycki/anaconda3/envs/seti/lib/python3.7/site-packages/blimpy/file_wrapper.py:322: H5pyDeprecationWarning: The default file mode will change to 'r' (read-only) in h5py 3.0. To suppress this warning, pass the mode you need to h5py.File(), or set the global default h5.get_config().default_file_mode, or set the environment variable H5PY_DEFAULT_READONLY=1. Available modes are: 'r', 'r+', 'w', 'w-'/'x', 'a'. See the docs for details.\n",
      "  self.h5 = h5py.File(self.filename)\n"
     ]
    },
    {
     "name": "stdout",
     "output_type": "stream",
     "text": [
      "Loaded in 1.6945228576660156 seconds\n",
      "signal 1 in 1.156505823135376 seconds\n",
      "signal 2 in 1.074950933456421 seconds\n",
      "signal 3 in 1.0614242553710938 seconds\n",
      "signal 4 in 1.0903160572052002 seconds\n",
      "signal 5 in 1.0706770420074463 seconds\n",
      "signal 6 in 1.0252530574798584 seconds\n",
      "signal 7 in 1.0847702026367188 seconds\n",
      "signal 8 in 1.0333588123321533 seconds\n",
      "signal 9 in 1.0778040885925293 seconds\n"
     ]
    },
    {
     "data": {
      "image/png": "[encoded data removed]",
      "text/plain": [
       "<Figure size 720x432 with 2 Axes>"
      ]
     },
     "metadata": {
      "needs_background": "light"
     },
     "output_type": "display_data"
    },
    {
     "name": "stdout",
     "output_type": "stream",
     "text": [
      "Finished in 11.707459 seconds\n"
     ]
    }
   ],
   "source": [
    "start = time.time()\n",
    "\n",
    "frame = stg.Frame(fil=data_file)\n",
    "\n",
    "test_file = np.genfromtxt(input_file, delimiter=',')\n",
    "\n",
    "\n",
    "print(f'Loaded in {time.time() - start} seconds')\n",
    "then = time.time()\n",
    "\n",
    "for i in range(1, test_file.shape[0]):\n",
    "    \n",
    "    fre = int(test_file[i][0])\n",
    "    drift = test_file[i][1]\n",
    "    width = int(test_file[i][3])\n",
    "\n",
    "    signal = frame.add_signal(stg.constant_path(f_start=frame.fs[fre],\n",
    "                                       drift_rate=drift*u.Hz/u.s), \n",
    "                     stg.constant_t_profile(level=10**13),\n",
    "                     stg.box_f_profile(width=3*width*u.Hz), \n",
    "                     stg.constant_bp_profile(level=1))\n",
    "\n",
    "    print(f'signal {i} in {time.time() - then} seconds')\n",
    "    then = time.time()\n",
    "    \n",
    "\n",
    "fig = plt.figure(figsize=(10, 6))\n",
    "plt.imshow(frame.get_data(), aspect='auto')\n",
    "plt.colorbar()\n",
    "plt.show()\n",
    "\n",
    "print('Finished in %f seconds' % (time.time() - start))"
   ]
  },
  {
   "cell_type": "code",
   "execution_count": null,
   "metadata": {},
   "outputs": [],
   "source": []
  }
 ],
 "metadata": {
  "kernelspec": {
   "display_name": "Python (bl)",
   "language": "python",
   "name": "bl"
  },
  "language_info": {
   "codemirror_mode": {
    "name": "ipython",
    "version": 3
   },
   "file_extension": ".py",
   "mimetype": "text/x-python",
   "name": "python",
   "nbconvert_exporter": "python",
   "pygments_lexer": "ipython3",
   "version": "3.7.4"
  }
 },
 "nbformat": 4,
 "nbformat_minor": 4
}
