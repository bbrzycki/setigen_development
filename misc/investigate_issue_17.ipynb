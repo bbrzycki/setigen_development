{
 "cells": [
  {
   "cell_type": "code",
   "execution_count": 1,
   "metadata": {},
   "outputs": [
    {
     "name": "stderr",
     "output_type": "stream",
     "text": [
      "bshuf filter already loaded, skip it.\n",
      "lz4 filter already loaded, skip it.\n",
      "zfp filter already loaded, skip it.\n"
     ]
    }
   ],
   "source": [
    "%load_ext autoreload\n",
    "%autoreload 2\n",
    "\n",
    "%matplotlib inline\n",
    "import matplotlib.pyplot as plt\n",
    "\n",
    "import numpy as np\n",
    "def db(x):\n",
    "    \"\"\" Convert linear value to dB value \"\"\"\n",
    "    return 10*np.log10(x)\n",
    "\n",
    "import blimpy as bl\n",
    "\n",
    "import sys\n",
    "sys.path.insert(0, \"/home/bryanb/setigen/\")\n",
    "import setigen as stg"
   ]
  },
  {
   "cell_type": "code",
   "execution_count": 2,
   "metadata": {},
   "outputs": [
    {
     "data": {
      "text/plain": [
       "33554432"
      ]
     },
     "execution_count": 2,
     "metadata": {},
     "output_type": "execute_result"
    }
   ],
   "source": [
    "2**25"
   ]
  },
  {
   "cell_type": "code",
   "execution_count": 7,
   "metadata": {},
   "outputs": [
    {
     "ename": "ValueError",
     "evalue": "cannot reshape array of size 32768 into shape (0,1,67108864)",
     "output_type": "error",
     "traceback": [
      "\u001b[0;31m---------------------------------------------------------------------------\u001b[0m",
      "\u001b[0;31mValueError\u001b[0m                                Traceback (most recent call last)",
      "\u001b[0;32m<ipython-input-7-1b0b37485601>\u001b[0m in \u001b[0;36m<module>\u001b[0;34m\u001b[0m\n\u001b[1;32m    103\u001b[0m \u001b[0;34m\u001b[0m\u001b[0m\n\u001b[1;32m    104\u001b[0m \u001b[0mt1\u001b[0m \u001b[0;34m=\u001b[0m \u001b[0mtime\u001b[0m\u001b[0;34m.\u001b[0m\u001b[0mtime\u001b[0m\u001b[0;34m(\u001b[0m\u001b[0;34m)\u001b[0m\u001b[0;34m\u001b[0m\u001b[0;34m\u001b[0m\u001b[0m\n\u001b[0;32m--> 105\u001b[0;31m \u001b[0mgen_fil\u001b[0m\u001b[0;34m(\u001b[0m\u001b[0mINFILE\u001b[0m\u001b[0;34m,\u001b[0m \u001b[0mn_signals\u001b[0m\u001b[0;34m=\u001b[0m\u001b[0;36m1\u001b[0m\u001b[0;34m)\u001b[0m\u001b[0;34m\u001b[0m\u001b[0;34m\u001b[0m\u001b[0m\n\u001b[0m\u001b[1;32m    106\u001b[0m \u001b[0mt2\u001b[0m \u001b[0;34m=\u001b[0m \u001b[0mtime\u001b[0m\u001b[0;34m.\u001b[0m\u001b[0mtime\u001b[0m\u001b[0;34m(\u001b[0m\u001b[0;34m)\u001b[0m\u001b[0;34m\u001b[0m\u001b[0;34m\u001b[0m\u001b[0m\n\u001b[1;32m    107\u001b[0m \u001b[0mprint\u001b[0m\u001b[0;34m(\u001b[0m\u001b[0;34m'gen_fil elapsed time = {:.1f}s'\u001b[0m\u001b[0;34m.\u001b[0m\u001b[0mformat\u001b[0m\u001b[0;34m(\u001b[0m\u001b[0mt2\u001b[0m \u001b[0;34m-\u001b[0m \u001b[0mt1\u001b[0m\u001b[0;34m)\u001b[0m\u001b[0;34m)\u001b[0m\u001b[0;34m\u001b[0m\u001b[0;34m\u001b[0m\u001b[0m\n",
      "\u001b[0;32m<ipython-input-7-1b0b37485601>\u001b[0m in \u001b[0;36mgen_fil\u001b[0;34m(arg_path, n_signals)\u001b[0m\n\u001b[1;32m     99\u001b[0m \u001b[0;34m\u001b[0m\u001b[0m\n\u001b[1;32m    100\u001b[0m     \u001b[0;31m# Save Filterbank file.\u001b[0m\u001b[0;34m\u001b[0m\u001b[0;34m\u001b[0m\u001b[0;34m\u001b[0m\u001b[0m\n\u001b[0;32m--> 101\u001b[0;31m     \u001b[0mframe\u001b[0m\u001b[0;34m.\u001b[0m\u001b[0msave_fil\u001b[0m\u001b[0;34m(\u001b[0m\u001b[0marg_path\u001b[0m\u001b[0;34m)\u001b[0m\u001b[0;34m\u001b[0m\u001b[0;34m\u001b[0m\u001b[0m\n\u001b[0m\u001b[1;32m    102\u001b[0m \u001b[0;34m\u001b[0m\u001b[0m\n\u001b[1;32m    103\u001b[0m \u001b[0;34m\u001b[0m\u001b[0m\n",
      "\u001b[0;32m~/setigen/setigen/frame.py\u001b[0m in \u001b[0;36msave_fil\u001b[0;34m(self, filename)\u001b[0m\n\u001b[1;32m    823\u001b[0m         \u001b[0mself\u001b[0m\u001b[0;34m.\u001b[0m\u001b[0m_update_waterfall\u001b[0m\u001b[0;34m(\u001b[0m\u001b[0;34m)\u001b[0m\u001b[0;34m\u001b[0m\u001b[0;34m\u001b[0m\u001b[0m\n\u001b[1;32m    824\u001b[0m         \u001b[0mself\u001b[0m\u001b[0;34m.\u001b[0m\u001b[0m_encode_bytestrings\u001b[0m\u001b[0;34m(\u001b[0m\u001b[0;34m)\u001b[0m\u001b[0;34m\u001b[0m\u001b[0;34m\u001b[0m\u001b[0m\n\u001b[0;32m--> 825\u001b[0;31m         \u001b[0mself\u001b[0m\u001b[0;34m.\u001b[0m\u001b[0mwaterfall\u001b[0m\u001b[0;34m.\u001b[0m\u001b[0mwrite_to_fil\u001b[0m\u001b[0;34m(\u001b[0m\u001b[0mfilename\u001b[0m\u001b[0;34m)\u001b[0m\u001b[0;34m\u001b[0m\u001b[0;34m\u001b[0m\u001b[0m\n\u001b[0m\u001b[1;32m    826\u001b[0m         \u001b[0mself\u001b[0m\u001b[0;34m.\u001b[0m\u001b[0m_decode_bytestrings\u001b[0m\u001b[0;34m(\u001b[0m\u001b[0;34m)\u001b[0m\u001b[0;34m\u001b[0m\u001b[0;34m\u001b[0m\u001b[0m\n\u001b[1;32m    827\u001b[0m \u001b[0;34m\u001b[0m\u001b[0m\n",
      "\u001b[0;32m/datax/scratch/bbrzycki/miniconda3/envs/bl_tf/lib/python3.8/site-packages/blimpy/waterfall.py\u001b[0m in \u001b[0;36mwrite_to_fil\u001b[0;34m(self, filename_out, *args, **kwargs)\u001b[0m\n\u001b[1;32m    300\u001b[0m     \u001b[0;32mdef\u001b[0m \u001b[0mwrite_to_fil\u001b[0m\u001b[0;34m(\u001b[0m\u001b[0mself\u001b[0m\u001b[0;34m,\u001b[0m \u001b[0mfilename_out\u001b[0m\u001b[0;34m,\u001b[0m \u001b[0;34m*\u001b[0m\u001b[0margs\u001b[0m\u001b[0;34m,\u001b[0m \u001b[0;34m**\u001b[0m\u001b[0mkwargs\u001b[0m\u001b[0;34m)\u001b[0m\u001b[0;34m:\u001b[0m\u001b[0;34m\u001b[0m\u001b[0;34m\u001b[0m\u001b[0m\n\u001b[1;32m    301\u001b[0m         \u001b[0;32mfrom\u001b[0m \u001b[0mblimpy\u001b[0m\u001b[0;34m.\u001b[0m\u001b[0mio\u001b[0m \u001b[0;32mimport\u001b[0m \u001b[0mwrite_to_fil\u001b[0m\u001b[0;34m\u001b[0m\u001b[0;34m\u001b[0m\u001b[0m\n\u001b[0;32m--> 302\u001b[0;31m         \u001b[0mwrite_to_fil\u001b[0m\u001b[0;34m(\u001b[0m\u001b[0mself\u001b[0m\u001b[0;34m,\u001b[0m \u001b[0mfilename_out\u001b[0m\u001b[0;34m)\u001b[0m\u001b[0;34m\u001b[0m\u001b[0;34m\u001b[0m\u001b[0m\n\u001b[0m\u001b[1;32m    303\u001b[0m \u001b[0;34m\u001b[0m\u001b[0m\n\u001b[1;32m    304\u001b[0m     \u001b[0;32mdef\u001b[0m \u001b[0mwrite_to_hdf5\u001b[0m\u001b[0;34m(\u001b[0m\u001b[0mself\u001b[0m\u001b[0;34m,\u001b[0m \u001b[0mfilename_out\u001b[0m\u001b[0;34m,\u001b[0m \u001b[0;34m*\u001b[0m\u001b[0margs\u001b[0m\u001b[0;34m,\u001b[0m \u001b[0;34m**\u001b[0m\u001b[0mkwargs\u001b[0m\u001b[0;34m)\u001b[0m\u001b[0;34m:\u001b[0m\u001b[0;34m\u001b[0m\u001b[0;34m\u001b[0m\u001b[0m\n",
      "\u001b[0;32m/datax/scratch/bbrzycki/miniconda3/envs/bl_tf/lib/python3.8/site-packages/blimpy/io/fil_writer.py\u001b[0m in \u001b[0;36mwrite_to_fil\u001b[0;34m(wf, filename_out, *args, **kwargs)\u001b[0m\n\u001b[1;32m     19\u001b[0m \u001b[0;34m\u001b[0m\u001b[0m\n\u001b[1;32m     20\u001b[0m     \u001b[0;32mif\u001b[0m \u001b[0mwf\u001b[0m\u001b[0;34m.\u001b[0m\u001b[0mcontainer\u001b[0m\u001b[0;34m.\u001b[0m\u001b[0misheavy\u001b[0m\u001b[0;34m(\u001b[0m\u001b[0;34m)\u001b[0m\u001b[0;34m:\u001b[0m\u001b[0;34m\u001b[0m\u001b[0;34m\u001b[0m\u001b[0m\n\u001b[0;32m---> 21\u001b[0;31m         \u001b[0m__write_to_fil_heavy\u001b[0m\u001b[0;34m(\u001b[0m\u001b[0mwf\u001b[0m\u001b[0;34m,\u001b[0m \u001b[0mfilename_out\u001b[0m\u001b[0;34m)\u001b[0m\u001b[0;34m\u001b[0m\u001b[0;34m\u001b[0m\u001b[0m\n\u001b[0m\u001b[1;32m     22\u001b[0m     \u001b[0;32melse\u001b[0m\u001b[0;34m:\u001b[0m\u001b[0;34m\u001b[0m\u001b[0;34m\u001b[0m\u001b[0m\n\u001b[1;32m     23\u001b[0m         \u001b[0m__write_to_fil_light\u001b[0m\u001b[0;34m(\u001b[0m\u001b[0mwf\u001b[0m\u001b[0;34m,\u001b[0m \u001b[0mfilename_out\u001b[0m\u001b[0;34m)\u001b[0m\u001b[0;34m\u001b[0m\u001b[0;34m\u001b[0m\u001b[0m\n",
      "\u001b[0;32m/datax/scratch/bbrzycki/miniconda3/envs/bl_tf/lib/python3.8/site-packages/blimpy/io/fil_writer.py\u001b[0m in \u001b[0;36m__write_to_fil_heavy\u001b[0;34m(wf, filename_out, *args, **kwargs)\u001b[0m\n\u001b[1;32m     48\u001b[0m         \u001b[0mwf\u001b[0m\u001b[0;34m.\u001b[0m\u001b[0mlogger\u001b[0m\u001b[0;34m.\u001b[0m\u001b[0minfo\u001b[0m\u001b[0;34m(\u001b[0m\u001b[0;34m'Reading %i of %i'\u001b[0m \u001b[0;34m%\u001b[0m \u001b[0;34m(\u001b[0m\u001b[0mii\u001b[0m \u001b[0;34m+\u001b[0m \u001b[0;36m1\u001b[0m\u001b[0;34m,\u001b[0m \u001b[0mn_blobs\u001b[0m\u001b[0;34m)\u001b[0m\u001b[0;34m)\u001b[0m\u001b[0;34m\u001b[0m\u001b[0;34m\u001b[0m\u001b[0m\n\u001b[1;32m     49\u001b[0m \u001b[0;34m\u001b[0m\u001b[0m\n\u001b[0;32m---> 50\u001b[0;31m         \u001b[0mbob\u001b[0m \u001b[0;34m=\u001b[0m \u001b[0mwf\u001b[0m\u001b[0;34m.\u001b[0m\u001b[0mcontainer\u001b[0m\u001b[0;34m.\u001b[0m\u001b[0mread_blob\u001b[0m\u001b[0;34m(\u001b[0m\u001b[0mblob_dim\u001b[0m\u001b[0;34m,\u001b[0m \u001b[0mn_blob\u001b[0m\u001b[0;34m=\u001b[0m\u001b[0mii\u001b[0m\u001b[0;34m)\u001b[0m\u001b[0;34m\u001b[0m\u001b[0;34m\u001b[0m\u001b[0m\n\u001b[0m\u001b[1;32m     51\u001b[0m \u001b[0;34m\u001b[0m\u001b[0m\n\u001b[1;32m     52\u001b[0m         \u001b[0;31m# Write data of .fil file.\u001b[0m\u001b[0;34m\u001b[0m\u001b[0;34m\u001b[0m\u001b[0;34m\u001b[0m\u001b[0m\n",
      "\u001b[0;32m/datax/scratch/bbrzycki/miniconda3/envs/bl_tf/lib/python3.8/site-packages/blimpy/io/fil_reader.py\u001b[0m in \u001b[0;36mread_blob\u001b[0;34m(self, blob_dim, n_blob)\u001b[0m\n\u001b[1;32m    218\u001b[0m             \u001b[0;32melse\u001b[0m\u001b[0;34m:\u001b[0m\u001b[0;34m\u001b[0m\u001b[0;34m\u001b[0m\u001b[0m\n\u001b[1;32m    219\u001b[0m                 \u001b[0mlogger\u001b[0m\u001b[0;34m.\u001b[0m\u001b[0minfo\u001b[0m\u001b[0;34m(\u001b[0m\u001b[0;34m'DD shape != blob shape.'\u001b[0m\u001b[0;34m)\u001b[0m\u001b[0;34m\u001b[0m\u001b[0;34m\u001b[0m\u001b[0m\n\u001b[0;32m--> 220\u001b[0;31m                 \u001b[0mblob\u001b[0m \u001b[0;34m=\u001b[0m \u001b[0mdd\u001b[0m\u001b[0;34m.\u001b[0m\u001b[0mreshape\u001b[0m\u001b[0;34m(\u001b[0m\u001b[0;34m(\u001b[0m\u001b[0mint\u001b[0m\u001b[0;34m(\u001b[0m\u001b[0mdd\u001b[0m\u001b[0;34m.\u001b[0m\u001b[0mshape\u001b[0m\u001b[0;34m[\u001b[0m\u001b[0;36m0\u001b[0m\u001b[0;34m]\u001b[0m\u001b[0;34m/\u001b[0m\u001b[0mblob_dim\u001b[0m\u001b[0;34m[\u001b[0m\u001b[0mself\u001b[0m\u001b[0;34m.\u001b[0m\u001b[0mfreq_axis\u001b[0m\u001b[0;34m]\u001b[0m\u001b[0;34m)\u001b[0m\u001b[0;34m,\u001b[0m\u001b[0mblob_dim\u001b[0m\u001b[0;34m[\u001b[0m\u001b[0mself\u001b[0m\u001b[0;34m.\u001b[0m\u001b[0mbeam_axis\u001b[0m\u001b[0;34m]\u001b[0m\u001b[0;34m,\u001b[0m\u001b[0mblob_dim\u001b[0m\u001b[0;34m[\u001b[0m\u001b[0mself\u001b[0m\u001b[0;34m.\u001b[0m\u001b[0mfreq_axis\u001b[0m\u001b[0;34m]\u001b[0m\u001b[0;34m)\u001b[0m\u001b[0;34m)\u001b[0m\u001b[0;34m\u001b[0m\u001b[0;34m\u001b[0m\u001b[0m\n\u001b[0m\u001b[1;32m    221\u001b[0m         \u001b[0;32melse\u001b[0m\u001b[0;34m:\u001b[0m\u001b[0;34m\u001b[0m\u001b[0;34m\u001b[0m\u001b[0m\n\u001b[1;32m    222\u001b[0m \u001b[0;34m\u001b[0m\u001b[0m\n",
      "\u001b[0;31mValueError\u001b[0m: cannot reshape array of size 32768 into shape (0,1,67108864)"
     ]
    }
   ],
   "source": [
    "r'''\n",
    "Synthesize a Filterbank file.\n",
    "Motivation: https://github.com/UCBerkeleySETI/turbo_seti/issues/206\n",
    "'''\n",
    "\n",
    "import time\n",
    "from astropy import units as u\n",
    "import setigen as stg\n",
    "from blimpy import Waterfall\n",
    "\n",
    "\n",
    "DIR = '/datax/scratch/bbrzycki/data/'\n",
    "INFILE = '/datax/scratch/bbrzycki/data/tabby.1.fil'\n",
    "MAX_DRIFT = 4\n",
    "MIN_SNR = 25\n",
    "arg_n_signals = 1\n",
    " \n",
    "    \n",
    "def gen_fil(arg_path, n_signals):\n",
    "    r''' Generate a Filterbank file '''\n",
    "\n",
    "    assert n_signals > 0 and n_signals < 5\n",
    "    \n",
    "    # Define parameters.\n",
    "    \n",
    "#     fchans = 134217728\n",
    "    fchans = 2**26\n",
    "    #fchans = 1342177\n",
    "    tchans = 5\n",
    "    df = -2.7939677238464355e-06 * u.Hz\n",
    "    dt = 18.253611008 * u.s\n",
    "    fch1 = 19626.464842353016 * u.MHz\n",
    "    noise_std = 0.05 # Gaussian standard deviation\n",
    "    \n",
    "    sig_snr_1 = 100.0\n",
    "    sig_width_1 = 1.1 * u.Hz\n",
    "    drate_1 = 1.6 * u.Hz/u.s\n",
    "    f_start_1 = 0\n",
    "\n",
    "    sig_snr_2 = 200.0\n",
    "    sig_width_2 = 1.2 * u.Hz\n",
    "    drate_2 = 1.3 * u.Hz/u.s\n",
    "    f_start_2 = fchans * 0.1\n",
    "\n",
    "    sig_snr_3 = 300.0\n",
    "    sig_width_3 = 1.3 * u.Hz\n",
    "    drate_3 = 2.6 * u.Hz/u.s\n",
    "    f_start_3 = fchans * 0.2\n",
    "\n",
    "    sig_snr_4 = 400.0\n",
    "    sig_width_4 = 1.4 * u.Hz\n",
    "    drate_4 = 3.2 * u.Hz/u.s\n",
    "    f_start_4 = fchans * 0.3\n",
    "    \n",
    "    # Generate the frame.\n",
    "    frame = stg.Frame(fchans=fchans,\n",
    "                      tchans=tchans,\n",
    "                      df=df,\n",
    "                      dt=dt,\n",
    "                      fch1=fch1)\n",
    "    \n",
    "    # Add noise.\n",
    "    frame.add_noise(x_mean=0, x_std=noise_std, noise_type='gaussian')\n",
    "\n",
    "    # Add signal 1.\n",
    "    signal_intensity = frame.get_intensity(snr=sig_snr_1)\n",
    "    frame.add_constant_signal(f_start=frame.get_frequency(f_start_1),\n",
    "                              drift_rate=drate_1,\n",
    "                              level=signal_intensity,\n",
    "                              width=sig_width_1,\n",
    "                              f_profile_type='gaussian')\n",
    "    \n",
    "    # Add signal 2.\n",
    "    if n_signals > 1:    \n",
    "        signal_intensity = frame.get_intensity(snr=sig_snr_2)\n",
    "        frame.add_constant_signal(f_start=frame.get_frequency(f_start_2),\n",
    "                                  drift_rate=drate_2,\n",
    "                                  level=signal_intensity,\n",
    "                                  width=sig_width_2,\n",
    "                                  f_profile_type='gaussian')\n",
    "    \n",
    "    # Add signal 3.\n",
    "    if n_signals > 2:    \n",
    "        signal_intensity = frame.get_intensity(snr=sig_snr_3)\n",
    "        frame.add_constant_signal(f_start=frame.get_frequency(f_start_3),\n",
    "                                  drift_rate=drate_3,\n",
    "                                  level=signal_intensity,\n",
    "                                  width=sig_width_3,\n",
    "                                  f_profile_type='gaussian')\n",
    "    \n",
    "    # Add signal 4.\n",
    "    if n_signals > 3:    \n",
    "        signal_intensity = frame.get_intensity(snr=sig_snr_4)\n",
    "        frame.add_constant_signal(f_start=frame.get_frequency(f_start_4),\n",
    "                                  drift_rate=drate_4,\n",
    "                                  level=signal_intensity,\n",
    "                                  width=sig_width_4,\n",
    "                                  f_profile_type='gaussian')\n",
    "    \n",
    "    # Save Filterbank file.\n",
    "    frame.save_fil(arg_path)\n",
    "\n",
    "\n",
    "t1 = time.time()\n",
    "gen_fil(INFILE, n_signals=1)\n",
    "t2 = time.time()\n",
    "print('gen_fil elapsed time = {:.1f}s'.format(t2 - t1))\n",
    "wf = Waterfall(INFILE)\n",
    "wf.info()\n"
   ]
  },
  {
   "cell_type": "code",
   "execution_count": 8,
   "metadata": {},
   "outputs": [
    {
     "name": "stdout",
     "output_type": "stream",
     "text": [
      "/datax/scratch/bbrzycki/data/tabby.1.fil\n"
     ]
    }
   ],
   "source": [
    "!ls /datax/scratch/bbrzycki/data/tabby.1.fil"
   ]
  },
  {
   "cell_type": "code",
   "execution_count": 10,
   "metadata": {},
   "outputs": [
    {
     "name": "stdout",
     "output_type": "stream",
     "text": [
      "\n",
      "--- File Info ---\n",
      "      machine_id :                               20\n",
      "    telescope_id :                                6\n",
      "         src_raj :                         17:47:15\n",
      "         src_dej :                     -28:22:59.16\n",
      "        az_start :                              0.0\n",
      "        za_start :                              0.0\n",
      "       data_type :                                1\n",
      "            fch1 :           19626.464842353016 MHz\n",
      "            foff :      -2.7939677238464356e-12 MHz\n",
      "          nchans :                         67108864\n",
      "          nbeams :                                1\n",
      "           ibeam :                               -1\n",
      "           nbits :                               32\n",
      "   tstart (ISOT) :          2018-12-13T17:12:37.000\n",
      "    tstart (MJD) :               58465.717094907406\n",
      "           tsamp :                     18.253611008\n",
      "            nifs :                                1\n",
      "     source_name :                        Synthetic\n",
      "     rawdatafile :                        Synthetic\n",
      "\n",
      "Num ints in file :                                0\n",
      "      File shape :                 (0, 1, 67108864)\n",
      "--- Selection Info ---\n",
      "Data selection shape :                 (0, 1, 67108865)\n",
      "Minimum freq (MHz) :               19626.464654853015\n",
      "Maximum freq (MHz) :               19626.464842353016\n"
     ]
    }
   ],
   "source": [
    "wf = Waterfall(INFILE)\n",
    "wf.info()"
   ]
  },
  {
   "cell_type": "code",
   "execution_count": 12,
   "metadata": {},
   "outputs": [],
   "source": [
    "fchans = 1024\n",
    "tchans = 5\n",
    "df = -2.7939677238464355e-06 * u.Hz\n",
    "dt = 18.253611008 * u.s\n",
    "fch1 = 19626.464842353016 * u.MHz\n",
    "noise_std = 0.05 # Gaussian standard deviation\n",
    "\n",
    "# Generate the frame.\n",
    "frame = stg.Frame(fchans=fchans,\n",
    "                  tchans=tchans,\n",
    "                  df=df,\n",
    "                  dt=dt,\n",
    "                  fch1=fch1)"
   ]
  },
  {
   "cell_type": "code",
   "execution_count": 15,
   "metadata": {},
   "outputs": [
    {
     "data": {
      "text/plain": [
       "Waterfall data: /home/bryanb/setigen/setigen/assets/sample.fil"
      ]
     },
     "execution_count": 15,
     "metadata": {},
     "output_type": "execute_result"
    }
   ],
   "source": [
    "frame.get_waterfall()"
   ]
  },
  {
   "cell_type": "code",
   "execution_count": 20,
   "metadata": {},
   "outputs": [
    {
     "data": {
      "text/plain": [
       "{'t_begin': 0,\n",
       " 't_end': 5,\n",
       " 'header_keywords_types': {'telescope_id': '<l',\n",
       "  'machine_id': '<l',\n",
       "  'data_type': '<l',\n",
       "  'barycentric': '<l',\n",
       "  'pulsarcentric': '<l',\n",
       "  'nbits': '<l',\n",
       "  'nsamples': '<l',\n",
       "  'nchans': '<l',\n",
       "  'nifs': '<l',\n",
       "  'nbeams': '<l',\n",
       "  'ibeam': '<l',\n",
       "  'rawdatafile': 'str',\n",
       "  'source_name': 'str',\n",
       "  'az_start': '<d',\n",
       "  'za_start': '<d',\n",
       "  'tstart': '<d',\n",
       "  'tsamp': '<d',\n",
       "  'fch1': '<d',\n",
       "  'foff': '<d',\n",
       "  'refdm': '<d',\n",
       "  'period': '<d',\n",
       "  'src_raj': 'angle',\n",
       "  'src_dej': 'angle'},\n",
       " 'filename': '/home/bryanb/setigen/setigen/assets/sample.fil',\n",
       " 'load_data': True,\n",
       " 'header': {'machine_id': 20,\n",
       "  'telescope_id': 6,\n",
       "  'src_raj': <Angle 17.7875 hourangle>,\n",
       "  'src_dej': <Angle -28.3831 deg>,\n",
       "  'az_start': 0.0,\n",
       "  'za_start': 0.0,\n",
       "  'data_type': 1,\n",
       "  'fch1': 19626.464842353016,\n",
       "  'foff': -2.7939677238464356e-12,\n",
       "  'nchans': 1024,\n",
       "  'nbeams': 1,\n",
       "  'ibeam': -1,\n",
       "  'nbits': 32,\n",
       "  'tstart': 58465.717094907406,\n",
       "  'tsamp': 18.253611008,\n",
       "  'nifs': 1,\n",
       "  'source_name': 'Synthetic',\n",
       "  'rawdatafile': 'Synthetic'},\n",
       " 'file_size_bytes': 131466,\n",
       " 'idx_data': 394,\n",
       " 'n_channels_in_file': 1024,\n",
       " 'n_beams_in_file': 1,\n",
       " 'n_pols_in_file': 1,\n",
       " '_n_bytes': 4,\n",
       " '_d_type': 'float32',\n",
       " 'n_ints_in_file': 5,\n",
       " 'file_shape': (5, 1, 1024),\n",
       " 'f_end': 19626.464842353016,\n",
       " 'f_begin': 19626.464842350157,\n",
       " 't_start': 0,\n",
       " 't_stop': 5,\n",
       " 'f_start': 19626.464842350157,\n",
       " 'f_stop': 19626.464842353016,\n",
       " 'selection_shape': (5, 1, 1024),\n",
       " 'chan_start_idx': 0,\n",
       " 'chan_stop_idx': 1024,\n",
       " 'freq_axis': 2,\n",
       " 'time_axis': 0,\n",
       " 'beam_axis': 1,\n",
       " 'MAX_DATA_ARRAY_SIZE': 1073741824.0,\n",
       " 'large_file': False,\n",
       " 'data': array([[[ 688935.5 ,  346375.78,  270871.44, ...,  503063.9 ,\n",
       "           230979.47,  166665.98]],\n",
       " \n",
       "        [[ 732202.56,  417048.94,  233878.98, ...,  171394.75,\n",
       "           484003.97,  822644.5 ]],\n",
       " \n",
       "        [[ 181982.97,  122969.8 , 1107629.8 , ...,  810749.6 ,\n",
       "           400022.72,  306730.3 ]],\n",
       " \n",
       "        ...,\n",
       " \n",
       "        [[ 452019.1 ,  406238.38,  199831.52, ...,  191873.11,\n",
       "           492492.88,  176114.9 ]],\n",
       " \n",
       "        [[ 440834.34,  402693.22,  247162.45, ...,  361345.06,\n",
       "           697117.7 ,  606939.75]],\n",
       " \n",
       "        [[ 453541.88,  165189.11,  315876.2 , ...,  207505.23,\n",
       "           643105.44,  343150.97]]], dtype=float32)}"
      ]
     },
     "execution_count": 20,
     "metadata": {},
     "output_type": "execute_result"
    }
   ],
   "source": [
    "vars(frame.waterfall.container)"
   ]
  },
  {
   "cell_type": "code",
   "execution_count": 83,
   "metadata": {},
   "outputs": [
    {
     "data": {
      "text/plain": [
       "{'filename': '/home/bryanb/setigen/setigen/assets/sample.fil',\n",
       " 'ext': '.fil',\n",
       " 'container': <blimpy.io.fil_reader.FilReader at 0x7fd7bc049a90>,\n",
       " 'file_header': {'machine_id': 20,\n",
       "  'telescope_id': 6,\n",
       "  'src_raj': <Angle 17.7875 hourangle>,\n",
       "  'src_dej': <Angle -28.3831 deg>,\n",
       "  'az_start': 0.0,\n",
       "  'za_start': 0.0,\n",
       "  'data_type': 1,\n",
       "  'fch1': 19626.464842353016,\n",
       "  'foff': -2.7939677238464355e-06,\n",
       "  'nchans': 67108864,\n",
       "  'nbeams': 1,\n",
       "  'ibeam': -1,\n",
       "  'nbits': 32,\n",
       "  'tstart': 58465.717094907406,\n",
       "  'tsamp': 18.253611008,\n",
       "  'nifs': 1,\n",
       "  'source_name': 'Synthetic',\n",
       "  'rawdatafile': 'Synthetic'},\n",
       " 'header': {'machine_id': 20,\n",
       "  'telescope_id': 6,\n",
       "  'src_raj': <Angle 17.7875 hourangle>,\n",
       "  'src_dej': <Angle -28.3831 deg>,\n",
       "  'az_start': 0.0,\n",
       "  'za_start': 0.0,\n",
       "  'data_type': 1,\n",
       "  'fch1': 19626.464842353016,\n",
       "  'foff': -2.7939677238464355e-06,\n",
       "  'nchans': 67108864,\n",
       "  'nbeams': 1,\n",
       "  'ibeam': -1,\n",
       "  'nbits': 32,\n",
       "  'tstart': 58465.717094907406,\n",
       "  'tsamp': 18.253611008,\n",
       "  'nifs': 1,\n",
       "  'source_name': 'Synthetic',\n",
       "  'rawdatafile': 'Synthetic'},\n",
       " 'n_ints_in_file': 5,\n",
       " 'file_shape': (5, 1, 67108864),\n",
       " 'file_size_bytes': 1342177280.0,\n",
       " 'selection_shape': (5, 1, 67108864),\n",
       " 'n_channels_in_file': 67108864,\n",
       " 'freq_axis': 2,\n",
       " 'time_axis': 0,\n",
       " 'beam_axis': 1,\n",
       " 'stokes_axis': 4,\n",
       " 'logger': <Logger blimpy.waterfall (INFO)>,\n",
       " 'data': array([[[0., 0., 0., ..., 0., 0., 0.]],\n",
       " \n",
       "        [[0., 0., 0., ..., 0., 0., 0.]],\n",
       " \n",
       "        [[0., 0., 0., ..., 0., 0., 0.]],\n",
       " \n",
       "        [[0., 0., 0., ..., 0., 0., 0.]],\n",
       " \n",
       "        [[0., 0., 0., ..., 0., 0., 0.]]]),\n",
       " 'plot_spectrum': <bound method plot_spectrum of Waterfall data: /home/bryanb/setigen/setigen/assets/sample.fil>,\n",
       " 'plot_waterfall': <bound method plot_waterfall of Waterfall data: /home/bryanb/setigen/setigen/assets/sample.fil>,\n",
       " 'plot_kurtosis': <bound method plot_kurtosis of Waterfall data: /home/bryanb/setigen/setigen/assets/sample.fil>,\n",
       " 'plot_time_series': <bound method plot_time_series of Waterfall data: /home/bryanb/setigen/setigen/assets/sample.fil>,\n",
       " 'plot_all': <bound method plot_all of Waterfall data: /home/bryanb/setigen/setigen/assets/sample.fil>,\n",
       " 'plot_spectrum_min_max': <bound method plot_spectrum_min_max of Waterfall data: /home/bryanb/setigen/setigen/assets/sample.fil>}"
      ]
     },
     "execution_count": 83,
     "metadata": {},
     "output_type": "execute_result"
    }
   ],
   "source": [
    "vars(frame.waterfall)"
   ]
  },
  {
   "cell_type": "code",
   "execution_count": 22,
   "metadata": {},
   "outputs": [
    {
     "data": {
      "text/plain": [
       "((1, 1, 1048576), (5, 1, 1024), 1)"
      ]
     },
     "execution_count": 22,
     "metadata": {},
     "output_type": "execute_result"
    }
   ],
   "source": [
    "wf = frame.get_waterfall()\n",
    "\n",
    "chunk_dim = wf._get_chunk_dimensions()\n",
    "blob_dim = wf._get_blob_dimensions(chunk_dim)\n",
    "n_blobs = wf.container.calc_n_blobs(blob_dim)\n",
    "\n",
    "chunk_dim, blob_dim, n_blobs"
   ]
  },
  {
   "cell_type": "code",
   "execution_count": 23,
   "metadata": {},
   "outputs": [
    {
     "data": {
      "text/plain": [
       "<blimpy.io.fil_reader.FilReader at 0x7fd7d28723d0>"
      ]
     },
     "execution_count": 23,
     "metadata": {},
     "output_type": "execute_result"
    }
   ],
   "source": [
    "frame.waterfall.container"
   ]
  },
  {
   "cell_type": "code",
   "execution_count": 24,
   "metadata": {},
   "outputs": [
    {
     "data": {
      "text/plain": [
       "1"
      ]
     },
     "execution_count": 24,
     "metadata": {},
     "output_type": "execute_result"
    }
   ],
   "source": [
    "frame.waterfall.container.calc_n_blobs(blob_dim)"
   ]
  },
  {
   "cell_type": "code",
   "execution_count": 25,
   "metadata": {},
   "outputs": [
    {
     "data": {
      "text/plain": [
       "5"
      ]
     },
     "execution_count": 25,
     "metadata": {},
     "output_type": "execute_result"
    }
   ],
   "source": [
    "blob_dim[frame.waterfall.container.time_axis]"
   ]
  },
  {
   "cell_type": "code",
   "execution_count": 26,
   "metadata": {},
   "outputs": [
    {
     "data": {
      "text/plain": [
       "(5, 1, 1024)"
      ]
     },
     "execution_count": 26,
     "metadata": {},
     "output_type": "execute_result"
    }
   ],
   "source": [
    "frame.waterfall.container.selection_shape"
   ]
  },
  {
   "cell_type": "code",
   "execution_count": 28,
   "metadata": {},
   "outputs": [
    {
     "data": {
      "text/plain": [
       "(0, 1, 1024)"
      ]
     },
     "execution_count": 28,
     "metadata": {},
     "output_type": "execute_result"
    }
   ],
   "source": [
    "updated_blob_dim=(int(frame.waterfall.container.selection_shape[frame.waterfall.container.time_axis] - blob_dim[frame.waterfall.container.time_axis]*1),\n",
    " 1,\n",
    " int(blob_dim[frame.waterfall.container.freq_axis]))\n",
    "updated_blob_dim"
   ]
  },
  {
   "cell_type": "code",
   "execution_count": 29,
   "metadata": {},
   "outputs": [
    {
     "data": {
      "text/plain": [
       "0"
      ]
     },
     "execution_count": 29,
     "metadata": {},
     "output_type": "execute_result"
    }
   ],
   "source": [
    "np.prod(updated_blob_dim)"
   ]
  },
  {
   "cell_type": "code",
   "execution_count": 30,
   "metadata": {},
   "outputs": [
    {
     "data": {
      "text/plain": [
       "'float32'"
      ]
     },
     "execution_count": 30,
     "metadata": {},
     "output_type": "execute_result"
    }
   ],
   "source": [
    "frame.waterfall.container._d_type"
   ]
  },
  {
   "cell_type": "code",
   "execution_count": 31,
   "metadata": {},
   "outputs": [
    {
     "data": {
      "text/plain": [
       "'/home/bryanb/setigen/setigen/assets/sample.fil'"
      ]
     },
     "execution_count": 31,
     "metadata": {},
     "output_type": "execute_result"
    }
   ],
   "source": [
    "frame.waterfall.container.filename"
   ]
  },
  {
   "cell_type": "code",
   "execution_count": 33,
   "metadata": {},
   "outputs": [
    {
     "data": {
      "text/plain": [
       "32768"
      ]
     },
     "execution_count": 33,
     "metadata": {},
     "output_type": "execute_result"
    }
   ],
   "source": [
    "frame1 = stg.Frame('/home/bryanb/setigen/setigen/assets/sample.fil')\n",
    "np.prod(frame1.shape)"
   ]
  },
  {
   "cell_type": "code",
   "execution_count": 35,
   "metadata": {},
   "outputs": [
    {
     "data": {
      "text/plain": [
       "1073741824.0"
      ]
     },
     "execution_count": 35,
     "metadata": {},
     "output_type": "execute_result"
    }
   ],
   "source": [
    "frame.waterfall.container.MAX_DATA_ARRAY_SIZE"
   ]
  },
  {
   "cell_type": "code",
   "execution_count": 36,
   "metadata": {},
   "outputs": [
    {
     "data": {
      "text/plain": [
       "20468"
      ]
     },
     "execution_count": 36,
     "metadata": {},
     "output_type": "execute_result"
    }
   ],
   "source": [
    "frame.waterfall.container._calc_selection_size()"
   ]
  },
  {
   "cell_type": "code",
   "execution_count": 37,
   "metadata": {},
   "outputs": [
    {
     "data": {
      "text/plain": [
       "335544320"
      ]
     },
     "execution_count": 37,
     "metadata": {},
     "output_type": "execute_result"
    }
   ],
   "source": [
    "5*2**26"
   ]
  },
  {
   "cell_type": "code",
   "execution_count": 59,
   "metadata": {},
   "outputs": [
    {
     "data": {
      "text/plain": [
       "Waterfall data: /home/bryanb/setigen/setigen/assets/sample.fil"
      ]
     },
     "execution_count": 59,
     "metadata": {},
     "output_type": "execute_result"
    }
   ],
   "source": [
    "fchans = 2**26\n",
    "tchans = 5\n",
    "df = -2.7939677238464355 * u.Hz\n",
    "dt = 18.253611008 * u.s\n",
    "fch1 = 19626.464842353016 * u.MHz\n",
    "noise_std = 0.05 # Gaussian standard deviation\n",
    "\n",
    "# Generate the frame.\n",
    "frame = stg.Frame(fchans=fchans,\n",
    "                  tchans=tchans,\n",
    "                  df=df,\n",
    "                  dt=dt,\n",
    "                  fch1=fch1)\n",
    "frame.get_waterfall()"
   ]
  },
  {
   "cell_type": "code",
   "execution_count": 60,
   "metadata": {},
   "outputs": [
    {
     "data": {
      "text/plain": [
       "(1073741824.0, 1342177260)"
      ]
     },
     "execution_count": 60,
     "metadata": {},
     "output_type": "execute_result"
    }
   ],
   "source": [
    "frame.waterfall.container.MAX_DATA_ARRAY_SIZE, frame.waterfall.container._calc_selection_size()"
   ]
  },
  {
   "cell_type": "code",
   "execution_count": 61,
   "metadata": {},
   "outputs": [
    {
     "data": {
      "text/plain": [
       "(5, 1, 67108864)"
      ]
     },
     "execution_count": 61,
     "metadata": {},
     "output_type": "execute_result"
    }
   ],
   "source": [
    "frame.waterfall.container.selection_shape"
   ]
  },
  {
   "cell_type": "code",
   "execution_count": 62,
   "metadata": {},
   "outputs": [
    {
     "data": {
      "text/plain": [
       "10737418240"
      ]
     },
     "execution_count": 62,
     "metadata": {},
     "output_type": "execute_result"
    }
   ],
   "source": [
    "5*2**26*32"
   ]
  },
  {
   "cell_type": "code",
   "execution_count": 63,
   "metadata": {},
   "outputs": [
    {
     "data": {
      "text/plain": [
       "4"
      ]
     },
     "execution_count": 63,
     "metadata": {},
     "output_type": "execute_result"
    }
   ],
   "source": [
    "frame.waterfall.container._n_bytes"
   ]
  },
  {
   "cell_type": "code",
   "execution_count": 64,
   "metadata": {},
   "outputs": [
    {
     "data": {
      "text/plain": [
       "5"
      ]
     },
     "execution_count": 64,
     "metadata": {},
     "output_type": "execute_result"
    }
   ],
   "source": [
    "frame.waterfall.container.t_stop - frame.waterfall.container.t_start"
   ]
  },
  {
   "cell_type": "code",
   "execution_count": 65,
   "metadata": {},
   "outputs": [
    {
     "data": {
      "text/plain": [
       "67108863.0"
      ]
     },
     "execution_count": 65,
     "metadata": {},
     "output_type": "execute_result"
    }
   ],
   "source": [
    "(frame.waterfall.container.f_stop - frame.waterfall.container.f_start) / abs(frame.waterfall.container.header['foff'])"
   ]
  },
  {
   "cell_type": "code",
   "execution_count": 66,
   "metadata": {},
   "outputs": [
    {
     "data": {
      "text/plain": [
       "-2.7939677238464355e-06"
      ]
     },
     "execution_count": 66,
     "metadata": {},
     "output_type": "execute_result"
    }
   ],
   "source": [
    "frame.waterfall.container.header['foff']"
   ]
  },
  {
   "cell_type": "code",
   "execution_count": 68,
   "metadata": {},
   "outputs": [
    {
     "data": {
      "text/plain": [
       "(19626.464842353016, 19438.964845146984)"
      ]
     },
     "execution_count": 68,
     "metadata": {},
     "output_type": "execute_result"
    }
   ],
   "source": [
    "frame.waterfall.container.f_stop, frame.waterfall.container.f_start"
   ]
  },
  {
   "cell_type": "code",
   "execution_count": 70,
   "metadata": {},
   "outputs": [
    {
     "data": {
      "text/plain": [
       "1342177280"
      ]
     },
     "execution_count": 70,
     "metadata": {},
     "output_type": "execute_result"
    }
   ],
   "source": [
    "fchans*5*4"
   ]
  },
  {
   "cell_type": "code",
   "execution_count": 80,
   "metadata": {},
   "outputs": [
    {
     "name": "stdout",
     "output_type": "stream",
     "text": [
      "/mnt_home/bryanb/setigen_development/example.fil\n"
     ]
    }
   ],
   "source": [
    "fchans = 2**26\n",
    "tchans = 5\n",
    "df = -2.7939677238464355 * u.Hz\n",
    "dt = 18.253611008 * u.s\n",
    "fch1 = 19626.464842353016 * u.MHz\n",
    "noise_std = 0.05 # Gaussian standard deviation\n",
    "\n",
    "# Generate the frame.\n",
    "frame = stg.Frame(fchans=fchans,\n",
    "                  tchans=tchans,\n",
    "                  df=df,\n",
    "                  dt=dt,\n",
    "                  fch1=fch1)\n",
    "frame._update_waterfall()\n",
    "frame.save_fil('example.fil')"
   ]
  },
  {
   "cell_type": "code",
   "execution_count": 72,
   "metadata": {},
   "outputs": [
    {
     "data": {
      "text/plain": [
       "'/datax/scratch/bbrzycki/data/tabby.1.fil'"
      ]
     },
     "execution_count": 72,
     "metadata": {},
     "output_type": "execute_result"
    }
   ],
   "source": [
    "INFILE"
   ]
  },
  {
   "cell_type": "code",
   "execution_count": 75,
   "metadata": {},
   "outputs": [
    {
     "data": {
      "text/plain": [
       "False"
      ]
     },
     "execution_count": 75,
     "metadata": {},
     "output_type": "execute_result"
    }
   ],
   "source": [
    "import os\n",
    "fn = 'test.txt'\n",
    "os.path.isabs(fn)"
   ]
  },
  {
   "cell_type": "code",
   "execution_count": 76,
   "metadata": {},
   "outputs": [
    {
     "data": {
      "text/plain": [
       "'/mnt_home/bryanb/setigen_development/test.txt'"
      ]
     },
     "execution_count": 76,
     "metadata": {},
     "output_type": "execute_result"
    }
   ],
   "source": [
    "os.path.abspath(fn)"
   ]
  },
  {
   "cell_type": "code",
   "execution_count": 111,
   "metadata": {},
   "outputs": [
    {
     "name": "stdout",
     "output_type": "stream",
     "text": [
      "352\n",
      "352\n",
      "2684354560.0\n",
      "gen_fil elapsed time = 68.8s\n",
      "\n",
      "--- File Info ---\n",
      "      machine_id :                               20\n",
      "    telescope_id :                                6\n",
      "         src_raj :                         17:47:15\n",
      "         src_dej :                     -28:22:59.16\n",
      "        az_start :                              0.0\n",
      "        za_start :                              0.0\n",
      "       data_type :                                1\n",
      "            fch1 :           19626.464842353016 MHz\n",
      "            foff :      -2.7939677238464356e-12 MHz\n",
      "          nchans :                        134217728\n",
      "          nbeams :                                1\n",
      "           ibeam :                               -1\n",
      "           nbits :                               32\n",
      "   tstart (ISOT) :          2018-12-13T17:12:37.000\n",
      "    tstart (MJD) :               58465.717094907406\n",
      "           tsamp :                     18.253611008\n",
      "            nifs :                                1\n",
      "     source_name :                        Synthetic\n",
      "     rawdatafile :                        Synthetic\n",
      "\n",
      "Num ints in file :                                5\n",
      "      File shape :                (5, 1, 134217728)\n",
      "--- Selection Info ---\n",
      "Data selection shape :                (5, 1, 134217728)\n",
      "Minimum freq (MHz) :               19626.464467353017\n",
      "Maximum freq (MHz) :               19626.464842353016\n"
     ]
    }
   ],
   "source": [
    "r'''\n",
    "Synthesize a Filterbank file.\n",
    "Motivation: https://github.com/UCBerkeleySETI/turbo_seti/issues/206\n",
    "'''\n",
    "\n",
    "import time\n",
    "from astropy import units as u\n",
    "import setigen as stg\n",
    "from blimpy import Waterfall\n",
    "\n",
    "\n",
    "DIR = '/datax/scratch/bbrzycki/data/'\n",
    "INFILE = '/datax/scratch/bbrzycki/data/tabby.1.fil'\n",
    "MAX_DRIFT = 4\n",
    "MIN_SNR = 25\n",
    "arg_n_signals = 1\n",
    " \n",
    "    \n",
    "def gen_fil(arg_path, n_signals):\n",
    "    r''' Generate a Filterbank file '''\n",
    "\n",
    "    assert n_signals > 0 and n_signals < 5\n",
    "    \n",
    "    # Define parameters.\n",
    "    \n",
    "#     fchans = 134217728\n",
    "    fchans = 2**27\n",
    "    #fchans = 1342177\n",
    "    tchans = 5\n",
    "    df = -2.7939677238464355e-06 * u.Hz\n",
    "    dt = 18.253611008 * u.s\n",
    "    fch1 = 19626.464842353016 * u.MHz\n",
    "    noise_std = 0.05 # Gaussian standard deviation\n",
    "    \n",
    "    sig_snr_1 = 100.0\n",
    "    sig_width_1 = 1.1 * u.Hz\n",
    "    drate_1 = 1.6 * u.Hz/u.s\n",
    "    f_start_1 = 0\n",
    "\n",
    "    sig_snr_2 = 200.0\n",
    "    sig_width_2 = 1.2 * u.Hz\n",
    "    drate_2 = 1.3 * u.Hz/u.s\n",
    "    f_start_2 = fchans * 0.1\n",
    "\n",
    "    sig_snr_3 = 300.0\n",
    "    sig_width_3 = 1.3 * u.Hz\n",
    "    drate_3 = 2.6 * u.Hz/u.s\n",
    "    f_start_3 = fchans * 0.2\n",
    "\n",
    "    sig_snr_4 = 400.0\n",
    "    sig_width_4 = 1.4 * u.Hz\n",
    "    drate_4 = 3.2 * u.Hz/u.s\n",
    "    f_start_4 = fchans * 0.3\n",
    "    \n",
    "    # Generate the frame.\n",
    "    frame = stg.Frame(fchans=fchans,\n",
    "                      tchans=tchans,\n",
    "                      df=df,\n",
    "                      dt=dt,\n",
    "                      fch1=fch1)\n",
    "    \n",
    "    # Add noise.\n",
    "    frame.add_noise(x_mean=0, x_std=noise_std, noise_type='gaussian')\n",
    "\n",
    "    # Add signal 1.\n",
    "    signal_intensity = frame.get_intensity(snr=sig_snr_1)\n",
    "    frame.add_constant_signal(f_start=frame.get_frequency(f_start_1),\n",
    "                              drift_rate=drate_1,\n",
    "                              level=signal_intensity,\n",
    "                              width=sig_width_1,\n",
    "                              f_profile_type='gaussian')\n",
    "    \n",
    "    # Add signal 2.\n",
    "    if n_signals > 1:    \n",
    "        signal_intensity = frame.get_intensity(snr=sig_snr_2)\n",
    "        frame.add_constant_signal(f_start=frame.get_frequency(f_start_2),\n",
    "                                  drift_rate=drate_2,\n",
    "                                  level=signal_intensity,\n",
    "                                  width=sig_width_2,\n",
    "                                  f_profile_type='gaussian')\n",
    "    \n",
    "    # Add signal 3.\n",
    "    if n_signals > 2:    \n",
    "        signal_intensity = frame.get_intensity(snr=sig_snr_3)\n",
    "        frame.add_constant_signal(f_start=frame.get_frequency(f_start_3),\n",
    "                                  drift_rate=drate_3,\n",
    "                                  level=signal_intensity,\n",
    "                                  width=sig_width_3,\n",
    "                                  f_profile_type='gaussian')\n",
    "    \n",
    "    # Add signal 4.\n",
    "    if n_signals > 3:    \n",
    "        signal_intensity = frame.get_intensity(snr=sig_snr_4)\n",
    "        frame.add_constant_signal(f_start=frame.get_frequency(f_start_4),\n",
    "                                  drift_rate=drate_4,\n",
    "                                  level=signal_intensity,\n",
    "                                  width=sig_width_4,\n",
    "                                  f_profile_type='gaussian')\n",
    "    \n",
    "    # Save Filterbank file.\n",
    "#     frame.get_waterfall()\n",
    "#     frame.waterfall.container.MAX_DATA_ARRAY_SIZE = frame.waterfall.file_size_bytes\n",
    "    frame.save_fil(arg_path, max_load=8)\n",
    "    \n",
    "    print(len(sigproc.generate_sigproc_header(frame.waterfall)))\n",
    "    print(frame.waterfall.container.idx_data)\n",
    "    print(frame.waterfall.file_size_bytes)\n",
    "\n",
    "\n",
    "t1 = time.time()\n",
    "gen_fil(INFILE, n_signals=1)\n",
    "t2 = time.time()\n",
    "print('gen_fil elapsed time = {:.1f}s'.format(t2 - t1))\n",
    "wf = Waterfall(INFILE)\n",
    "wf.info()\n"
   ]
  },
  {
   "cell_type": "code",
   "execution_count": 86,
   "metadata": {},
   "outputs": [
    {
     "data": {
      "text/plain": [
       "1342177280.0"
      ]
     },
     "execution_count": 86,
     "metadata": {},
     "output_type": "execute_result"
    }
   ],
   "source": [
    "frame.waterfall.file_size_bytes"
   ]
  },
  {
   "cell_type": "code",
   "execution_count": 112,
   "metadata": {},
   "outputs": [
    {
     "data": {
      "text/plain": [
       "2.68435456"
      ]
     },
     "execution_count": 112,
     "metadata": {},
     "output_type": "execute_result"
    }
   ],
   "source": [
    "2684354560.0/1e9"
   ]
  },
  {
   "cell_type": "code",
   "execution_count": 89,
   "metadata": {},
   "outputs": [
    {
     "data": {
      "text/plain": [
       "b'\\x0c\\x00\\x00\\x00HEADER_START\\n\\x00\\x00\\x00machine_id\\x14\\x00\\x00\\x00\\x0c\\x00\\x00\\x00telescope_id\\x06\\x00\\x00\\x00\\x07\\x00\\x00\\x00src_raj\\x00\\x00\\x00\\x00\\xd8S\\x05A\\x07\\x00\\x00\\x00src_dej=\\n\\xd7\\xa3L:\\x11\\xc1\\x08\\x00\\x00\\x00az_start\\x00\\x00\\x00\\x00\\x00\\x00\\x00\\x00\\x08\\x00\\x00\\x00za_start\\x00\\x00\\x00\\x00\\x00\\x00\\x00\\x00\\t\\x00\\x00\\x00data_type\\x01\\x00\\x00\\x00\\x04\\x00\\x00\\x00fch1\\x00$\\xfa\\xbf\\x9d*\\xd3@\\x04\\x00\\x00\\x00foff\\xfa~j\\xbct\\x93\\x88\\xbd\\x06\\x00\\x00\\x00nchans\\x00\\x00\\x00\\x04\\x06\\x00\\x00\\x00nbeams\\x01\\x00\\x00\\x00\\x05\\x00\\x00\\x00ibeam\\xff\\xff\\xff\\xff\\x05\\x00\\x00\\x00nbits \\x00\\x00\\x00\\x06\\x00\\x00\\x00tstart\\xee\\x04q\\xf26\\x8c\\xec@\\x05\\x00\\x00\\x00tsamp\\xfeC\\xa9\\xa6\\xec@2@\\x04\\x00\\x00\\x00nifs\\x01\\x00\\x00\\x00\\x0b\\x00\\x00\\x00source_name\\t\\x00\\x00\\x00Synthetic\\x0b\\x00\\x00\\x00rawdatafile\\t\\x00\\x00\\x00Synthetic\\n\\x00\\x00\\x00HEADER_END'"
      ]
     },
     "execution_count": 89,
     "metadata": {},
     "output_type": "execute_result"
    }
   ],
   "source": [
    "from blimpy.io import sigproc\n",
    "sigproc.generate_sigproc_header(wf)"
   ]
  },
  {
   "cell_type": "code",
   "execution_count": 90,
   "metadata": {},
   "outputs": [
    {
     "data": {
      "text/plain": [
       "352"
      ]
     },
     "execution_count": 90,
     "metadata": {},
     "output_type": "execute_result"
    }
   ],
   "source": [
    "len(sigproc.generate_sigproc_header(wf))"
   ]
  },
  {
   "cell_type": "code",
   "execution_count": 92,
   "metadata": {},
   "outputs": [
    {
     "data": {
      "text/plain": [
       "352"
      ]
     },
     "execution_count": 92,
     "metadata": {},
     "output_type": "execute_result"
    }
   ],
   "source": [
    "wf.container.idx_data"
   ]
  },
  {
   "cell_type": "code",
   "execution_count": 98,
   "metadata": {},
   "outputs": [
    {
     "data": {
      "text/plain": [
       "352"
      ]
     },
     "execution_count": 98,
     "metadata": {},
     "output_type": "execute_result"
    }
   ],
   "source": [
    "len(sigproc.generate_sigproc_header(frame.waterfall))"
   ]
  },
  {
   "cell_type": "code",
   "execution_count": 99,
   "metadata": {},
   "outputs": [
    {
     "data": {
      "text/plain": [
       "394"
      ]
     },
     "execution_count": 99,
     "metadata": {},
     "output_type": "execute_result"
    }
   ],
   "source": [
    "frame.waterfall.container.idx_data"
   ]
  },
  {
   "cell_type": "code",
   "execution_count": 108,
   "metadata": {},
   "outputs": [
    {
     "name": "stdout",
     "output_type": "stream",
     "text": [
      "226495070208\n"
     ]
    }
   ],
   "source": [
    "import psutil\n",
    "stats = psutil.virtual_memory()  # returns a named tuple\n",
    "available = getattr(stats, 'available')\n",
    "print(available)"
   ]
  },
  {
   "cell_type": "code",
   "execution_count": 109,
   "metadata": {},
   "outputs": [
    {
     "data": {
      "text/plain": [
       "226.495070208"
      ]
     },
     "execution_count": 109,
     "metadata": {},
     "output_type": "execute_result"
    }
   ],
   "source": [
    "available/1e9"
   ]
  },
  {
   "cell_type": "code",
   "execution_count": null,
   "metadata": {},
   "outputs": [],
   "source": []
  }
 ],
 "metadata": {
  "kernelspec": {
   "display_name": "Python (bl_tf)",
   "language": "python",
   "name": "ml"
  },
  "language_info": {
   "codemirror_mode": {
    "name": "ipython",
    "version": 3
   },
   "file_extension": ".py",
   "mimetype": "text/x-python",
   "name": "python",
   "nbconvert_exporter": "python",
   "pygments_lexer": "ipython3",
   "version": "3.8.3"
  }
 },
 "nbformat": 4,
 "nbformat_minor": 4
}
