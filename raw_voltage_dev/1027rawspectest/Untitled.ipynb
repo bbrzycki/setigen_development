{
 "cells": [
  {
   "cell_type": "code",
   "execution_count": 9,
   "metadata": {},
   "outputs": [
    {
     "data": {
      "text/plain": [
       "<module 'setigen' from '/mnt_home/bryanb/setigen/setigen/__init__.py'>"
      ]
     },
     "execution_count": 9,
     "metadata": {},
     "output_type": "execute_result"
    }
   ],
   "source": [
    "%matplotlib inline\n",
    "import setigen as stg\n",
    "stg"
   ]
  },
  {
   "cell_type": "code",
   "execution_count": 2,
   "metadata": {},
   "outputs": [
    {
     "name": "stdout",
     "output_type": "stream",
     "text": [
      "Wed Oct 27 13:04:01 2021       \n",
      "+-----------------------------------------------------------------------------+\n",
      "| NVIDIA-SMI 455.23.04    Driver Version: 455.23.04    CUDA Version: 11.1     |\n",
      "|-------------------------------+----------------------+----------------------+\n",
      "| GPU  Name        Persistence-M| Bus-Id        Disp.A | Volatile Uncorr. ECC |\n",
      "| Fan  Temp  Perf  Pwr:Usage/Cap|         Memory-Usage | GPU-Util  Compute M. |\n",
      "|                               |                      |               MIG M. |\n",
      "|===============================+======================+======================|\n",
      "|   0  GeForce GTX TIT...  Off  | 00000000:02:00.0 Off |                  N/A |\n",
      "| 22%   30C    P8    16W / 250W |      0MiB / 12212MiB |      0%      Default |\n",
      "|                               |                      |                  N/A |\n",
      "+-------------------------------+----------------------+----------------------+\n",
      "|   1  TITAN Xp            Off  | 00000000:03:00.0 Off |                  N/A |\n",
      "| 23%   25C    P8     9W / 250W |      0MiB / 12196MiB |      0%      Default |\n",
      "|                               |                      |                  N/A |\n",
      "+-------------------------------+----------------------+----------------------+\n",
      "|   2  GeForce GTX 1080    Off  | 00000000:83:00.0 Off |                  N/A |\n",
      "| 27%   27C    P8     6W / 180W |      0MiB /  8119MiB |      0%      Default |\n",
      "|                               |                      |                  N/A |\n",
      "+-------------------------------+----------------------+----------------------+\n",
      "|   3  TITAN Xp            Off  | 00000000:84:00.0 Off |                  N/A |\n",
      "| 23%   29C    P8    10W / 250W |      2MiB / 12196MiB |      0%      Default |\n",
      "|                               |                      |                  N/A |\n",
      "+-------------------------------+----------------------+----------------------+\n",
      "                                                                               \n",
      "+-----------------------------------------------------------------------------+\n",
      "| Processes:                                                                  |\n",
      "|  GPU   GI   CI        PID   Type   Process name                  GPU Memory |\n",
      "|        ID   ID                                                   Usage      |\n",
      "|=============================================================================|\n",
      "|  No running processes found                                                 |\n",
      "+-----------------------------------------------------------------------------+\n"
     ]
    }
   ],
   "source": [
    "!nvidia-smi"
   ]
  },
  {
   "cell_type": "code",
   "execution_count": 6,
   "metadata": {},
   "outputs": [
    {
     "name": "stderr",
     "output_type": "stream",
     "text": [
      "Blocks:   0%|          | 0/1 [00:00<?, ?it/s]\n",
      "  0%|          | 0/16 [00:00<?, ?it/s]\u001b[A\n",
      "Subblocks:   0%|          | 0/16 [00:00<?, ?it/s]\u001b[A"
     ]
    },
    {
     "name": "stdout",
     "output_type": "stream",
     "text": [
      "add_signal: SNR=30.61233300, f_start=8419.31936800 MHz, drate=-0.39222600 Hz/s, MHz leakage factor: 1.935\n",
      "add_signal: SNR=245.70961000, f_start=8419.29702800 MHz, drate=-0.37309300 Hz/s, MHz leakage factor: 1.320\n",
      "add_signal: SNR=31.22085800, f_start=8419.27437400 MHz, drate=-0.39222600 Hz/s, MHz leakage factor: 1.187\n",
      "\n",
      "================== Begin rvb.record .....\n",
      "\n"
     ]
    },
    {
     "name": "stderr",
     "output_type": "stream",
     "text": [
      "\n",
      "Subblocks:   6%|▋         | 1/16 [00:13<03:27, 13.87s/it]\u001b[A\n",
      "Subblocks:  12%|█▎        | 2/16 [00:25<03:05, 13.25s/it]\u001b[A\n",
      "Subblocks:  19%|█▉        | 3/16 [00:35<02:40, 12.35s/it]\u001b[A\n",
      "Subblocks:  25%|██▌       | 4/16 [00:46<02:20, 11.71s/it]\u001b[A\n",
      "Subblocks:  31%|███▏      | 5/16 [00:57<02:08, 11.68s/it]\u001b[A\n",
      "Subblocks:  38%|███▊      | 6/16 [01:09<01:57, 11.71s/it]\u001b[A\n",
      "Subblocks:  44%|████▍     | 7/16 [01:19<01:41, 11.31s/it]\u001b[A\n",
      "Subblocks:  50%|█████     | 8/16 [01:30<01:28, 11.02s/it]\u001b[A\n",
      "Subblocks:  56%|█████▋    | 9/16 [01:40<01:16, 10.87s/it]\u001b[A\n",
      "Subblocks:  62%|██████▎   | 10/16 [01:50<01:03, 10.66s/it]\u001b[A\n",
      "Subblocks:  69%|██████▉   | 11/16 [02:01<00:52, 10.59s/it]\u001b[A\n",
      "Subblocks:  75%|███████▌  | 12/16 [02:11<00:41, 10.49s/it]\u001b[A\n",
      "Subblocks:  81%|████████▏ | 13/16 [02:22<00:31, 10.54s/it]\u001b[A\n",
      "Subblocks:  88%|████████▊ | 14/16 [02:32<00:21, 10.52s/it]\u001b[A\n",
      "Subblocks:  94%|█████████▍| 15/16 [02:42<00:10, 10.43s/it]\u001b[A\n",
      "Subblocks: 100%|██████████| 16/16 [02:53<00:00, 10.39s/it]\u001b[A\n",
      "Blocks: 100%|██████████| 1/1 [02:54<00:00, 174.02s/it]    \u001b[A"
     ]
    },
    {
     "name": "stdout",
     "output_type": "stream",
     "text": [
      "\n",
      "================== Elapsed time = 174.02\n"
     ]
    },
    {
     "name": "stderr",
     "output_type": "stream",
     "text": [
      "\n"
     ]
    },
    {
     "name": "stdout",
     "output_type": "stream",
     "text": [
      "working stem: essai_voya\n",
      "opening file: essai_voya.0000.raw\n",
      "opening file: essai_voya.0001.raw [No such file or directory]\n",
      "output product 0: 32 spectra\n"
     ]
    }
   ],
   "source": [
    "import time\n",
    "import os\n",
    "from astropy import units as u\n",
    "import setigen as stg\n",
    "THE_MEANING_OF_LIFE = 42\n",
    "#\n",
    "# GPU/CUDA ?\n",
    "#\n",
    "os.environ['SETIGEN_ENABLE_GPU'] = '1' # No\n",
    "os.environ['CUDA_VISIBLE_DEVICES'] = '1' # No\n",
    "#\n",
    "# Back-end parameters\n",
    "#\n",
    "rq_target_fwhm = 32\n",
    "rq_num_bits = 8             # Number of bits to quantize to\n",
    "pfb_num_taps = 8            # Number of PFB taps\n",
    "pfb_num_branches = 1024     # --> num_chans = pfb_num_branches / 2\n",
    "vbe_start_chan = 0          # Index of first coarse channel to be recorded\n",
    "vbe_num_chans = 64          # Number of coarse channels to be recorded\n",
    "vbe_blocks_per_file = 128   # Number of blocks to be saved per RAW file\n",
    "vbe_num_subblocks = 16      # Number of partitions per block\n",
    "#\n",
    "# Antenna parameters\n",
    "#\n",
    "ant_sample_rate = 3e9\n",
    "ant_fch1 = 8.421386717353016 * u.GHz        # Starting frequency of first coarse channel\n",
    "ant_num_pols = 1            # Number of polarizations (1 or 2)\n",
    "#\n",
    "# Signal parameters\n",
    "#\n",
    "sig_fft_length = pfb_num_branches   # FFT length\n",
    "#\n",
    "# recording parameters\n",
    "#\n",
    "# rvb_block_size = 134217728  # Recording block size, in bytes\n",
    "rvb_file_path = \"./essai_voya\"      # Prefix of file path\n",
    "rvb_num_blocks = 1                  # Number of blocks\n",
    "rvb_block_size = 67108864           # Block size\n",
    "rvb_verbose = False                 # Verbose logging?\n",
    "#\n",
    "# Add a signal.\n",
    "#\n",
    "def add_signal(arg_antenna, arg_snr, arg_fft_length, arg_f_start, arg_drift_rate):\n",
    "    #\n",
    "    # Convert SNR to a setigen signal level.\n",
    "    #\n",
    "    global rvb\n",
    "    signal_level = stg.voltage.get_level(snr=arg_snr,\n",
    "                                     raw_voltage_backend=rvb,\n",
    "                                     fftlength=arg_fft_length,\n",
    "                                     num_blocks=1,\n",
    "                                     length_mode=\"num_blocks\")\n",
    "    leakage_factor = stg.voltage.get_leakage_factor(arg_f_start, rvb, sig_fft_length)\n",
    "    print(\"add_signal: SNR={:.8f}, f_start={:.8f} MHz, drate={:.8f} Hz/s, MHz leakage factor: {:.3f}\"\n",
    "          .format(arg_snr, arg_f_start / 1e6, arg_drift_rate, leakage_factor))\n",
    "    for x_stream in arg_antenna.streams:\n",
    "        level = x_stream.get_total_noise_std() * leakage_factor * signal_level\n",
    "        x_stream.add_constant_signal(f_start=arg_f_start,\n",
    "                                   drift_rate=arg_drift_rate,\n",
    "                                   level=level)\n",
    "#\n",
    "# Main Procedure\n",
    "#\n",
    "digitizer = stg.voltage.RealQuantizer(target_fwhm=rq_target_fwhm,\n",
    "                                          num_bits=rq_num_bits)\n",
    "filterbank = stg.voltage.PolyphaseFilterbank(num_taps=pfb_num_taps,\n",
    "                                             num_branches=pfb_num_branches)\n",
    "requantizer = stg.voltage.ComplexQuantizer(target_fwhm=rq_target_fwhm,\n",
    "                                           num_bits=rq_num_bits)\n",
    "#\n",
    "# Initialise antenna.\n",
    "#\n",
    "antenna = stg.voltage.Antenna(sample_rate=ant_sample_rate,\n",
    "                              fch1=ant_fch1,\n",
    "                              ascending=False,\n",
    "                              num_pols=ant_num_pols,\n",
    "                              seed=THE_MEANING_OF_LIFE)\n",
    "#\n",
    "# Initialise voltage back-end.\n",
    "#\n",
    "rvb = stg.voltage.RawVoltageBackend(antenna,\n",
    "                                    digitizer=digitizer,\n",
    "                                    filterbank=filterbank,\n",
    "                                    requantizer=requantizer,\n",
    "                                    start_chan=vbe_start_chan,\n",
    "                                    num_chans=vbe_num_chans,\n",
    "                                    block_size=rvb_block_size,\n",
    "                                    blocks_per_file=vbe_blocks_per_file,\n",
    "                                    num_subblocks=vbe_num_subblocks)\n",
    "#\n",
    "# For each polarisation, add noise.\n",
    "#\n",
    "for stream in antenna.streams:\n",
    "    stream.add_noise(v_mean=0, v_std=1)\n",
    "#\n",
    "# Add 3 Voyager 1 signals.\n",
    "#\n",
    "add_signal(antenna,  30.612333, sig_fft_length, 8419.319368e6, -0.392226)\n",
    "add_signal(antenna, 245.709610, sig_fft_length, 8419.297028e6, -0.373093)\n",
    "add_signal(antenna,  31.220858, sig_fft_length, 8419.274374e6, -0.392226)\n",
    "#\n",
    "# Record the raw file..\n",
    "#\n",
    "print(\"\\n================== Begin rvb.record .....\\n\")\n",
    "t1 = time.time()\n",
    "rvb.record(output_file_stem=rvb_file_path,\n",
    "       num_blocks=rvb_num_blocks,\n",
    "       length_mode='num_blocks',\n",
    "           header_dict={\"OBSERVER\": \"Galileo Galilei\",\n",
    "                        \"TELESCOP\": \"GBT\"},\n",
    "           verbose=rvb_verbose)\n",
    "t2 = time.time()\n",
    "print(\"\\n================== Elapsed time = {:.2f}\".format(t2 - t1))\n",
    "\n",
    "!rawspec -f 1024 -t 16 -p 1 -n 64 -d . essai_voya"
   ]
  },
  {
   "cell_type": "code",
   "execution_count": 10,
   "metadata": {},
   "outputs": [
    {
     "name": "stdout",
     "output_type": "stream",
     "text": [
      "(32, 65536)\n"
     ]
    },
    {
     "data": {
      "image/png": "[encoded data removed]",
      "text/plain": [
       "<Figure size 432x288 with 2 Axes>"
      ]
     },
     "metadata": {
      "needs_background": "light"
     },
     "output_type": "display_data"
    }
   ],
   "source": [
    "fr = stg.Frame('essai_voya.rawspec.0000.fil')\n",
    "print(fr.shape)\n",
    "fr.bl_plot()"
   ]
  },
  {
   "cell_type": "code",
   "execution_count": null,
   "metadata": {},
   "outputs": [],
   "source": []
  }
 ],
 "metadata": {
  "kernelspec": {
   "display_name": "Python (bl_tf)",
   "language": "python",
   "name": "ml"
  },
  "language_info": {
   "codemirror_mode": {
    "name": "ipython",
    "version": 3
   },
   "file_extension": ".py",
   "mimetype": "text/x-python",
   "name": "python",
   "nbconvert_exporter": "python",
   "pygments_lexer": "ipython3",
   "version": "3.8.3"
  }
 },
 "nbformat": 4,
 "nbformat_minor": 4
}
